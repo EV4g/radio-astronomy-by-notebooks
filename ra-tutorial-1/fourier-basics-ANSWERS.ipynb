{
 "cells": [
  {
   "cell_type": "markdown",
   "metadata": {},
   "source": [
    "# Basic Fourier imaging\n",
    "\n",
    "In this first tutorial / exercise session, we will explore properties of te Fourier transform: the most crucial piece of math in radio interferometry.\n",
    "\n",
    "## Jupyter notebooks\n",
    "\n",
    "For the practical exercises, we will use jupyter notebooks and Python 3.7. If you have never used this before, take some time to explore the menu options. There are text cells like this one, and code cells. To execute a cell, press either `<ctrl-enter>`, `<shift-enter>`, or `<alt-enter>`. Try them all and see what happens.\n",
    "\n",
    "To edit a cell, click on it or press `<enter>`. To leave cell-editing mode and enter notebook-editing mode, press `<esc>`. To remove a cell, go to notebook-editing mode, select the cell, and press `x`. \n",
    "\n",
    "## Harmonic signals / Fourier relations\n",
    "\n",
    "We begin by deriving/recalling a bunch of relations that will come in handy during the rest of the course. As is customary, we will mostly work in the complex domain, describing for example the electric field at a fixed position in space as\n",
    "\n",
    "$$\n",
    "V(t) = \\cos(2\\pi\\nu t) = \\Re\\left\\lbrace \\mathrm{e}^{\\pm2\\pi\\mathrm{i}\\nu t}\\right\\rbrace,\n",
    "$$\n",
    "where $\\nu$ is the frequency and $t$ is time. We call\n",
    "$$\n",
    "\\mathcal{V}(t) =  \\mathrm{e}^{\\pm2\\pi\\mathrm{i}\\nu t}\n",
    "$$\n",
    "the \"complex voltage\" to distinguish it from the actual voltage. The choice of sign here is arbitrary, but in any real world applications, whatever sign one chooses by convention at one point in for example a signal chain, determines the signs/conjugations at other points.\n",
    "\n",
    "For the time-to-frequency Fourier transform, we use the following form:\n",
    "$$\n",
    "f(\\nu) = \\mathcal{F}^-\\left\\lbrace V(t)\\right\\rbrace = \\int_{-\\infty}^{+\\infty} V(t) \\mathrm{e}^{-2\\pi\\mathrm{i}\\nu t}\\ \\mathrm{d}t\n",
    "$$\n",
    "with inverse\n",
    "$$\n",
    "V(t) = \\mathcal{F}^+\\left\\lbrace f(\\nu)\\right\\rbrace = \\int_{-\\infty}^{+\\infty} f(\\nu) \\mathrm{e}^{+2\\pi\\mathrm{i}\\nu t}\\ \\mathrm{d}\\nu\n",
    "$$\n",
    "\n",
    "\n",
    "**Remember that if something seems too simple to be true, it is most likely correct**"
   ]
  },
  {
   "cell_type": "markdown",
   "metadata": {},
   "source": [
    "### 1.1) Dirac $\\delta$ function\n",
    "\n",
    "Show that the Fourier transform of a constant function is the Dirac $\\delta$ function(https://en.wikipedia.org/wiki/Dirac_delta_function): \n",
    "\n",
    "$$\\mathcal{F}^-\\lbrace{f(t) = 1\\rbrace} = \\delta(\\nu),$$\n",
    "as well as\n",
    "$$\\mathcal{F}^+\\lbrace{f(\\nu) = 1\\rbrace} = \\delta(t).$$  "
   ]
  },
  {
   "cell_type": "markdown",
   "metadata": {},
   "source": [
    "### ANSWER\n",
    "\n",
    "  1) Start with the identity $F^-(F^+(f(\\nu)) = f(\\nu)$, which holds for an arbitraryfunction $f(\\nu)$, by the invertibility of the Fourier transformation operator;\n",
    "\n",
    "  2) Thus, as a special case, $F^-(F^+(\\delta(\\nu))) = \\delta(\\nu)$\n",
    "  \n",
    "  3) Evaluate $F^+(\\delta(\\nu)): F^+(\\delta(\\nu)) = \\int_{-\\infty}^{+\\infty} \\delta(\\nu) \\mathrm{e}^{2 \\pi \\mathrm{i} \\nu t}\\ \\mathrm{d}\\nu = \\mathrm{e}^0 = 1$.\n",
    "  \n",
    "  4) Thus $F^-(1) = \\delta(\\nu)$: The Fourier transform of a constant function is the Dirac delta. Q.E.D."
   ]
  },
  {
   "cell_type": "markdown",
   "metadata": {},
   "source": [
    "### 1.2) Shift theorem\n",
    "\n",
    "Show through variable substitution that \n",
    "$$\\mathcal{F}^-\\lbrace f(t-\\tau) \\rbrace(\\nu) \n",
    "   =\\mathrm{e}^{-2\\pi\\mathrm{i}\\nu\\tau}\\mathcal{F}^-\\lbrace f(t) \\rbrace$$, or in other words: *A shift in one domain corresponds to multiplication by a phase gradient in the other*"
   ]
  },
  {
   "cell_type": "markdown",
   "metadata": {},
   "source": [
    "### ANSWER\n",
    "\n",
    "We have\n",
    "$$ \\int_{-\\infty}^{+\\infty} f(t-\\tau) \\mathrm{e}^{-2\\pi\\mathrm{i}\\nu t}\\ \\mathrm{d}t.$$\n",
    "Let $\\xi = (t -\\tau)$ and therefore $\\frac{\\mathrm{d}t}{\\mathrm{d}\\xi} = 1$,\n",
    "thus\n",
    "$$ \\int_{-\\infty}^{+\\infty} f(\\xi) \\mathrm{e}^{-2\\pi\\mathrm{i}\\nu (\\xi+\\tau)}\\ \\mathrm{d}\\xi$$\n",
    "$$ = \\int_{-\\infty}^{+\\infty} f(\\xi) \\mathrm{e}^{-2\\pi\\mathrm{i}\\nu \\xi}\\mathrm{e}^{-2\\pi\\mathrm{i}\\nu \\tau}\\ \\mathrm{d}\\xi$$\n",
    "$$ =\\mathrm{e}^{-2\\pi\\mathrm{i}\\nu \\tau}\\int_{-\\infty}^{+\\infty} f(\\xi) \\mathrm{e}^{-2\\pi\\mathrm{i}\\nu \\xi}\\ \\mathrm{d}\\xi$$"
   ]
  },
  {
   "cell_type": "markdown",
   "metadata": {},
   "source": [
    "### 1.3) Scaling theorem\n",
    "\n",
    "Show through variable substitution that \n",
    "$$\\mathcal{F}^-\\lbrace f(a\\cdot t) \\rbrace(\\nu) \n",
    "   =|a|^{-1}\\mathcal{F}^-\\lbrace f(t) \\rbrace (\\nu/a)$$, or qualitatively: *Short things in one domain become proportionally longer in the other and v.v., while maintaining their integral.*"
   ]
  },
  {
   "cell_type": "markdown",
   "metadata": {},
   "source": [
    "### ANSWER\n",
    "\n",
    "$$ \\int_{-\\infty}^{+\\infty} f(a\\cdot t) \\mathrm{e}^{-2\\pi\\mathrm{i}\\nu t}\\ \\mathrm{d}t.$$\n",
    "\n",
    "Let $\\xi = a t$, thus $\\frac{\\mathrm{d}t}{\\mathrm{d}\\xi} = a^{-1}$. Therefore\n",
    "\n",
    "$$ \\int_{-\\infty}^{+\\infty} f(\\xi) \\mathrm{e}^{-2\\pi\\mathrm{i}\\nu \\xi/a} |a|^{-1}\\ \\mathrm{d}\\xi$$\n",
    "The absolute value appears because if $a < 0$, $\\mathrm{d}\\xi$ runs opposite to $\\mathrm{d}t$, adding a minus sign in front of the integral.\n",
    "$$= \\int_{-\\infty}^{+\\infty} f(\\xi) \\mathrm{e}^{-2\\pi\\mathrm{i}\\xi \\nu/a} |a|^{-1}\\ \\mathrm{d}\\xi$$\n",
    "$$= |a|^{-1}\\int_{-\\infty}^{+\\infty} f(\\xi) \\mathrm{e}^{-2\\pi\\mathrm{i}\\xi (\\nu/a)} \\ \\mathrm{d}\\xi$$\n",
    "Thus,\n",
    "$$= |a|^{-1}\\mathcal{F}^-\\lbrace f(t) \\rbrace (\\nu/a).$$\n"
   ]
  },
  {
   "cell_type": "markdown",
   "metadata": {},
   "source": [
    "### 1.4) Sinc function\n",
    "\n",
    "One often has to average a range of complex numbers, for example approximately linearly varying phase errors, or a bright source's visibilities over a certain bandwidth. The ``sinc(x)`` function will invariably show up in one scaling or another. Given a certain delay $\\tau$ between two radio signals, the phase difference between them as a function of frequency $\\nu$, is given by $2\\pi\\nu\\tau$.\n",
    "\n",
    "Show that, when averaging the complex phasor $\\mathrm{e}^{2\\pi\\mathrm{i}\\nu\\tau}$ between frequencies $\\nu_0 - \\Delta\\nu/2$ and $\\nu_0 + \\Delta\\nu/2$, the result is given by \n",
    "$$\n",
    "\\Delta\\nu^{-1}\\int_{\\nu_0-\\Delta\\nu/2}^{\\nu_0+\\Delta\\nu/2} \\mathrm{e}^{2\\pi\\mathrm{i}\\nu\\tau}\\ \\mathrm{d}\\nu =\n",
    "\\mathrm{e}^{2\\pi\\mathrm{i}\\nu_0\\tau}\\frac{\\sin(\\pi\\Delta\\nu\\tau)}{\\pi\\Delta\\nu\\tau}\n",
    "$$\n",
    "\n",
    "The fraction $\\frac{\\sin(\\pi x)}{\\pi x}$ is often written as $\\mathrm{sinc}(x)$. `numpy` uses this definition. Note that in some conventions, one instead uses $\\mathrm{sinc}(x) = \\frac{\\sin(x)}{x}$, therefore one should *always* pay attention what is used, and preferable forego the notation $\\mathrm{sinc}(x)$ altogether.\n",
    "\n",
    "The $\\mathrm{sinc}$ function is indeed the Fourier transform of a top-hat function with unit width and unit integral. If you haven't already, check that you can derive the same result using the shift- and scaling theorems. \n",
    "\n",
    "Note that when performing this average, the resulting phase is the mean phase, and the amplitude is reduced. This effect is often called *decorrelation*. \n",
    "\n"
   ]
  },
  {
   "cell_type": "markdown",
   "metadata": {},
   "source": [
    "### ANSWER\n",
    "\n",
    "$$\\Delta\\nu^{-1}\\int_{\\nu_0-\\Delta\\nu/2}^{\\nu_0+\\Delta\\nu/2} \\mathrm{e}^{2\\pi\\mathrm{i}\\nu\\tau}\\ \\mathrm{d}\\nu.$$\n",
    "Per the shift theorem,\n",
    "$$\\frac{\\mathrm{e}^{2\\pi\\mathrm{i}\\nu_0\\tau}}{\\Delta\\nu}\\int_{-\\Delta\\nu/2}^{+\\Delta\\nu/2} \\mathrm{e}^{2\\pi\\mathrm{i}\\nu\\tau}\\ \\mathrm{d}\\nu.$$\n",
    "\n",
    "Splitting the real and imaginary parts, we get\n",
    "$$\\frac{\\mathrm{e}^{2\\pi\\mathrm{i}\\nu_0\\tau}}{\\Delta\\nu}\\int_{-\\Delta\\nu/2}^{+\\Delta\\nu/2} \\cos{2\\pi\\nu\\tau} + \\mathrm{i}\\sin{2\\pi\\nu\\tau}\\ \\mathrm{d}\\nu.$$\n",
    "The $\\sin$ term is anti-symmetric around 0, hence its integral vanishes in this symmetric interval around 0. This leaves us with\n",
    "$$\\frac{\\mathrm{e}^{2\\pi\\mathrm{i}\\nu_0\\tau}}{\\Delta\\nu}\\int_{-\\Delta\\nu/2}^{+\\Delta\\nu/2} \\cos{2\\pi\\nu\\tau} \\ \\mathrm{d}\\nu,$$\n",
    "which is easily integrated:\n",
    "$$\\frac{\\mathrm{e}^{2\\pi\\mathrm{i}\\nu_0\\tau}}{\\Delta\\nu}\\left[\\frac{\\sin{2\\pi\\nu\\tau}}{2\\pi\\tau}\\right]_{-\\Delta\\nu/2}^{+\\Delta\\nu/2}$$\n",
    "$$=\\frac{\\mathrm{e}^{2\\pi\\mathrm{i}\\nu_0\\tau}}{\\Delta\\nu}\\left[\\frac{\\sin{2\\pi\\Delta\\nu\\tau/2}}{2\\pi\\tau} + \\frac{\\sin{2\\pi\\Delta\\nu\\tau/2}}{2\\pi\\tau}\\right]$$\n",
    "$$=\\mathrm{e}^{2\\pi\\mathrm{i}\\nu_0\\tau}\\frac{\\sin{\\pi\\Delta\\nu\\tau}}{\\pi\\Delta\\nu\\tau}$$\n",
    "\n",
    "\n",
    "\n",
    "### ALTERNATIVE\n",
    "\n",
    "Let $R(\\nu)$ be  the top-hat function with unit width, centred at 0, and with unit integral. The problem to solve is then: \n",
    "$$\\mathcal{F}^+\\left\\lbrace {\\Delta\\nu}^{-1}R\\left(\\frac{\\nu-\\nu_0}{\\Delta\\nu}\\right)\\right\\rbrace(\\tau)$$\n",
    "$${\\Delta\\nu}^{-1}\\mathcal{F}^+\\left\\lbrace R\\left(\\frac{\\nu-\\nu_0}{\\Delta\\nu}\\right)\\right\\rbrace(\\tau)$$\n",
    "Applying the scaling theorem yields:\n",
    "$$\\mathcal{F}^+\\left\\lbrace R\\left(\\nu-\\nu_0\\right)\\right\\rbrace(\\tau\\Delta\\nu)$$\n",
    "And the shift theorem:\n",
    "$$\\mathrm{e}^{2\\pi\\mathrm{i}\\nu_0\\tau}\\mathcal{F}^+\\left\\lbrace R\\left(\\nu\\right)\\right\\rbrace(\\tau\\Delta\\nu)$$\n",
    "With\n",
    "$$\\mathcal{F}^+\\left\\lbrace R\\left(\\nu\\right)\\right\\rbrace = \\mathrm{sinc}(\\tau)$$\n",
    "we end up with\n",
    "$$\\mathrm{e}^{2\\pi\\mathrm{i}\\nu_0\\tau}\\mathrm{sinc}(\\tau\\Delta\\nu)$$\n"
   ]
  },
  {
   "cell_type": "markdown",
   "metadata": {},
   "source": [
    "# Interactive part\n",
    "\n",
    "The cell below ensures that we have all the pylab and matplotlib functions available in the main Python namespace. It also ensures that other python modules are reloaded at every cell evaluation. This makes editing complex code elsewhere (for example in fourierexploration.py) , and immediately evaluating it here much easier. One does not have to re-evaluate the entire notebook after every change!\n"
   ]
  },
  {
   "cell_type": "code",
   "execution_count": 1,
   "metadata": {},
   "outputs": [
    {
     "name": "stdout",
     "output_type": "stream",
     "text": [
      "Populating the interactive namespace from numpy and matplotlib\n"
     ]
    }
   ],
   "source": [
    "%pylab ipympl\n",
    "%load_ext autoreload\n",
    "%autoreload 2"
   ]
  },
  {
   "cell_type": "markdown",
   "metadata": {},
   "source": [
    "### 1.5) Sinc interactive\n",
    "\n",
    "In the cell below we plot this sinc function for a certain bandwidth and delay. Read the code and make sure you understand each step. Play around with the sliders to build some intuition. When does the first null occur? Does that agree with what you expected?"
   ]
  },
  {
   "cell_type": "code",
   "execution_count": 2,
   "metadata": {},
   "outputs": [
    {
     "data": {
      "application/vnd.jupyter.widget-view+json": {
       "model_id": "d2d4a202294a455ca8d2047a473631d1",
       "version_major": 2,
       "version_minor": 0
      },
      "text/plain": [
       "FigureCanvasNbAgg()"
      ]
     },
     "metadata": {},
     "output_type": "display_data"
    },
    {
     "data": {
      "application/vnd.jupyter.widget-view+json": {
       "model_id": "a09ff429eb614adcbaedda3a42560721",
       "version_major": 2,
       "version_minor": 0
      },
      "text/plain": [
       "interactive(children=(FloatSlider(value=1.0, description='Plot $\\\\Delta \\\\nu$ [MHz]: ', layout=Layout(width='8…"
      ]
     },
     "metadata": {},
     "output_type": "display_data"
    }
   ],
   "source": [
    "import ipywidgets # Module that allows one to interact with plots\n",
    "\n",
    "def plot_sinc(ax, bandwidth_plot_range_MHz, delay_us):\n",
    "    '''\n",
    "    Plot the sinc function sin(pi delta_nu tau)/(pi delta_nu tau).\n",
    "    \n",
    "    Parameters\n",
    "    ----------\n",
    "    \n",
    "    ax : matplotlib.AxesSubplot\n",
    "        Subplot to draw on.\n",
    "        \n",
    "    bandwidth_plot_range_MHz : float\n",
    "        Maximum bandwidth delta_nu in the plot in MHz.\n",
    "        \n",
    "    delay_us : float\n",
    "        Delay tau in microseconds.\n",
    "    '''\n",
    "    dnu_MHz = linspace(0.0, bandwidth_plot_range_MHz, 300)\n",
    "    result = sinc(dnu_MHz*delay_us)\n",
    "\n",
    "    ax.cla()\n",
    "    ax.set_title(r'$\\frac{\\sin(\\pi\\Delta\\nu\\tau)}{\\pi\\Delta\\nu\\tau}$ for $\\tau$ = %.3f $\\mu$s' % delay_us)\n",
    "    ax.plot(dnu_MHz, result, lw=2)\n",
    "    ax.set_xlabel(r'Bandwidth $\\Delta\\nu$ [MHz]')\n",
    "    ax.set_xlim(dnu_MHz.min(), dnu_MHz.max())\n",
    "    ax.set_ylim(-0.25,1.03)\n",
    "    ax.grid()\n",
    "\n",
    "    \n",
    "# Create the figure and interact with the \"plot_sinc\" function\n",
    "fig_1 = figure(figsize=(6,4), dpi=150)  # Create a figure using matplotlib\n",
    "ax_1 = fig_1.subplots(1,1)              # Create sub plots (1 row, 1 column)\n",
    "\n",
    "layout = ipywidgets.Layout(width='80%')\n",
    "desc_style =  {'description_width': 'initial'}\n",
    "\n",
    "_ = ipywidgets.interact(\n",
    "    plot_sinc,\n",
    "    ax=ipywidgets.fixed(ax_1),\n",
    "    bandwidth_plot_range_MHz=ipywidgets.FloatSlider(\n",
    "        min=0.05, max=10, step=0.05, value=1,\n",
    "        description=r'Plot $\\Delta \\nu$ [MHz]: ',\n",
    "        layout=layout,\n",
    "        readout_format='.3f',\n",
    "        style=desc_style),\n",
    "    delay_us=ipywidgets.FloatSlider(\n",
    "        min=0.000, max=10, step=0.001, value=1,\n",
    "        description=r'$\\tau$ [$\\mu$s]: ',\n",
    "        layout=layout,\n",
    "        readout_format='.3f',\n",
    "        style=desc_style))"
   ]
  },
  {
   "cell_type": "markdown",
   "metadata": {},
   "source": [
    "### 1.6) Heterodyne\n",
    "\n",
    "Most radio telescope receiver systems involve up- and down converters that shift the frequency of the signals from the sky up or down by multiplying the signal analoguely with a local oscillator. This process is called \"heterodyning\", and the most common radio receiver chain is the the so-called superheterodyne receiver in which the incoming signal is mixed up or down by a tunable amount, to fit right into a fixed-frequency range amplifier and filtering chain called the intermediate frequency, or \"IF\". The part that performs the multiplication is the mixer:\n",
    "\n",
    "![Heterodyne mixer (Wikipedia)](./IdealMixer.png \"Heterodyne mixer (Wikipedia).\")\n",
    "\n",
    "We start deriving what happens there using the addition rules for sine and cosine functions. This is easiest starting from the complex domain.\n",
    "\n",
    "Given angles $a$ and $b$, derive from \n",
    "$$ \\mathrm{e}^{\\mathrm{i}(a+b)}$$\n",
    "that\n",
    "$$ \\cos(a+b) = \\cos a \\cos b - \\sin a \\sin b$$\n",
    "and\n",
    "$$ \\sin(a+b) = \\sin a \\cos b + \\cos a \\sin b.$$\n",
    "\n",
    "Show that a mixer multiplying two cosine waves (for example input and local oscillator) produces a signal that contains the sum as well as the difference frequency:\n",
    "$$\\cos 2\\pi\\nu_\\mathrm{in}t \\cos 2\\pi\\nu_\\mathrm{LO}t  = \\frac{1}{2}\\left[\\cos(2\\pi(\\nu_\\mathrm{in}+\\nu_\\mathrm{LO}) t) + \\cos(2\\pi(\\nu_\\mathrm{in}-\\nu_\\mathrm{LO}) t)\\right]$$\n",
    "\n",
    "To create a down-converter module, one needs to add a filter that rejects the highest mixing product (heterodyne) and passes the lowest heterodyne.  \n",
    "\n",
    "Note that when the mixing is done in the complex domain (for example digitally), it simply amounts to applying the Fourier shift theorem."
   ]
  },
  {
   "cell_type": "markdown",
   "metadata": {},
   "source": [
    "### ANSWER\n",
    "\n",
    "$$ \\mathrm{e}^{\\mathrm{i}(a+b)} = \\mathrm{e}^{\\mathrm{i}a}\\mathrm{e}^{\\mathrm{i}b}$$\n",
    "$$\\cos(a+b)+\\mathrm{i}\\sin(a+b) = (\\cos a + \\mathrm{i}\\sin a)(\\cos b + \\mathrm{i} \\sin b)$$\n",
    "$$\\cos(a+b)+\\mathrm{i}\\sin(a+b) = \\cos a \\cos b - \\sin a \\sin b + \\mathrm{i}(\\sin a \\cos b + \\cos a \\sin b)$$\n",
    "Where the real part gives the rule for the cosine and the imaginary part that for the sine.\n",
    "\n",
    "Now, take the mean of the equations for the cosine of the sum and difference of two angles:\n",
    "$$\\frac{1}{2}(\\cos(a+b) + \\cos(a-b)) = \\frac{1}{2} (2 \\cos a \\cos b -\\sin a \\sin b + \\sin a \\sin b) = \\cos a \\cos b$$"
   ]
  },
  {
   "cell_type": "markdown",
   "metadata": {},
   "source": [
    "The cell below allows you to play with mixing different frequencies. Study it carefully, then run it."
   ]
  },
  {
   "cell_type": "code",
   "execution_count": 3,
   "metadata": {},
   "outputs": [
    {
     "data": {
      "application/vnd.jupyter.widget-view+json": {
       "model_id": "4c41d9a755494c15b424102a2c677c89",
       "version_major": 2,
       "version_minor": 0
      },
      "text/plain": [
       "FigureCanvasNbAgg()"
      ]
     },
     "metadata": {},
     "output_type": "display_data"
    },
    {
     "data": {
      "application/vnd.jupyter.widget-view+json": {
       "model_id": "0c4cf513a4d746bc93ccce256642e716",
       "version_major": 2,
       "version_minor": 0
      },
      "text/plain": [
       "interactive(children=(FloatSlider(value=175.0, description='f_1_MHz', layout=Layout(width='80%'), max=300.0, m…"
      ]
     },
     "metadata": {},
     "output_type": "display_data"
    }
   ],
   "source": [
    "def plot_heterodyne(ax, f_1_MHz, f_2_MHz):\n",
    "    time_s = linspace(0, 200e-9, 1000)\n",
    "    time_ns = time_s*1e9\n",
    "    frequency_1_hz = 1e6*f_1_MHz\n",
    "    frequency_2_hz = 1e6*f_2_MHz\n",
    "\n",
    "    signal_1 = cos(2*pi*frequency_1_hz*time_s)\n",
    "    signal_2 = cos(2*pi*frequency_2_hz*time_s)\n",
    "    signal_sumfreq = 0.5*cos(2*pi*(frequency_1_hz+frequency_2_hz)*time_s)\n",
    "    signal_difffreq = 0.5*cos(2*pi*(frequency_1_hz-frequency_2_hz)*time_s)\n",
    "    \n",
    "    for a in ax:\n",
    "        a.cla()\n",
    "        \n",
    "    ax[0].set_title(f'Input signals at {f_1_MHz:.1f} and {f_2_MHz:.1f} MHz')\n",
    "    ax[0].plot(time_ns, vstack([signal_1, signal_2]).T)\n",
    "    ax[0].set_xticklabels([])\n",
    "\n",
    "    ax[1].set_title('Sum of inputs')\n",
    "    ax[1].plot(time_ns, signal_1+signal_2, lw=2, alpha=0.5)\n",
    "    ax[1].set_xticklabels([])\n",
    "\n",
    "    ax[2].set_title('Product of inputs')\n",
    "    ax[2].plot(time_ns, signal_1*signal_2, lw=2, alpha=0.5)\n",
    "    ax[2].set_xticklabels([])\n",
    "\n",
    "    ax[3].set_title(f'Components in output at: {f_2_MHz-f_1_MHz:.1f} and {f_1_MHz+f_2_MHz:.1f} MHz')\n",
    "    ax[3].plot(time_ns, vstack([signal_sumfreq, signal_difffreq]).T, lw=2, alpha=0.5)\n",
    "    ax[3].set_xlabel('Time [ns]')\n",
    "\n",
    "\n",
    "# Create the figure and axes, and interact\n",
    "fig_2 = figure(figsize=(8,7), dpi=150)\n",
    "ax_2 = fig_2.subplots(4,1)\n",
    "\n",
    "layout = ipywidgets.Layout(width='80%')\n",
    "_ = ipywidgets.interact(\n",
    "    plot_heterodyne,\n",
    "    ax=ipywidgets.fixed(ax_2),\n",
    "    f_1_MHz=ipywidgets.FloatSlider(min=10., max=300., step=0.2, value=175., layout=layout),\n",
    "    f_2_MHz=ipywidgets.FloatSlider(min=10., max=300., step=0.2, value=200., layout=layout))"
   ]
  },
  {
   "cell_type": "markdown",
   "metadata": {},
   "source": [
    "### 1.7)\n",
    "See what happens when the input frequencies are close together and far apart. Explain what you see."
   ]
  },
  {
   "cell_type": "markdown",
   "metadata": {},
   "source": [
    "### ANSWER\n",
    "\n",
    "Well, you *have* proven that the *sum* of two waves can be written as the product of two others..."
   ]
  },
  {
   "cell_type": "markdown",
   "metadata": {},
   "source": [
    "# In two dimensions\n",
    "\n",
    "The relations derived above are easily extended to two dimensions. Because a radio interferometer does not directly measure the sky, but instead samples (to first order, and under certain conditions) the two-dimensional Fourier transform of the sky, it is time to gain some intuition in that respect. The Fourier image is called the \"uv-plane\" after the conventional names of its coordinates.\n",
    "\n",
    "The fourierexploration.py module contains the gui and simulation code for the next cell. Feel free to have a look at it, but right now it is more important to start playing with it.\n",
    "\n",
    "The original image is on the top left, its Fourier transform on the top right, the modified uv-plane bottom right, and the Fourier transform of the modified uv-plane (\"Dirty image\") on the bottom left. The uv-planes indicate amplitude by brightness, and phase by color. In the uv-plane, large scales end up at the centre, while small scales end up at the edges. Execute the next cell and answer the questions below it."
   ]
  },
  {
   "cell_type": "code",
   "execution_count": 4,
   "metadata": {},
   "outputs": [
    {
     "data": {
      "application/vnd.jupyter.widget-view+json": {
       "model_id": "286bd5cdb59d4c4f99b5519cf0161c61",
       "version_major": 2,
       "version_minor": 0
      },
      "text/plain": [
       "FigureCanvasNbAgg()"
      ]
     },
     "metadata": {},
     "output_type": "display_data"
    },
    {
     "data": {
      "application/vnd.jupyter.widget-view+json": {
       "model_id": "e239174cb27d4c8db883567244cd958b",
       "version_major": 2,
       "version_minor": 0
      },
      "text/plain": [
       "interactive(children=(Dropdown(description='img_scale', options={'Linear': <function linear at 0x7fadc4093ea0>…"
      ]
     },
     "metadata": {},
     "output_type": "display_data"
    }
   ],
   "source": [
    "import fourierexploration as fe\n",
    "\n",
    "fe_gui = fe.FourierExplorerGui(figsize=(8,8), dpi=150)\n",
    "\n",
    "shirt = fe.imread('shirt-bw.png')\n",
    "pikachu = fe.imread('pikachu.png')\n",
    "poliwhirl = fe.imread('poliwhirl.png')\n",
    "\n",
    "fe_gui.interact({'Point source': fe.point_source_image,\n",
    "                 'Pikachu': pikachu,\n",
    "                 'Shirt': shirt,\n",
    "                 'Poliwhirl': poliwhirl})"
   ]
  },
  {
   "cell_type": "markdown",
   "metadata": {},
   "source": [
    "### 1.8) Point source\n",
    "\n",
    "Start with the point source. It should be at the centre. Move the shift sliders, and describe what happens. Now try the maximum and minimum baseline sliders. Describe what you find."
   ]
  },
  {
   "cell_type": "markdown",
   "metadata": {},
   "source": [
    "### 1.9) Pikachu\n",
    "\n",
    "Set everything back to the original positions and load Pikachu. Try both the dB and Linear brightness scales for the uv-plane. Do you see a sinc-like pattern? What does that tell you about the drawing? Verify your hypothesis by using the sliders."
   ]
  },
  {
   "cell_type": "markdown",
   "metadata": {},
   "source": [
    "### 1.10) Shirt\n",
    "\n",
    "The uv-plane is highly structured. Why? Try to associate parts of the uv-plane with features in the image. Use the zoom-button (second from right in the button-bar) if necessary. What disappears first if you increase the minimum baseline? What happens when you reduce the maximum baseline to that value and set the minimum baseline to 0? What causes the bright spots far in the dark corners of the uv-plane?"
   ]
  },
  {
   "cell_type": "markdown",
   "metadata": {},
   "source": [
    "# APSYNSIM\n",
    "\n",
    "There is an interesting tool written by Ivan Marti-Vidal (Onsala, SE), in which one can do similar experiments with actual uv-coverages of real radio telescopes. Executing the next cell will start the program."
   ]
  },
  {
   "cell_type": "code",
   "execution_count": 5,
   "metadata": {},
   "outputs": [],
   "source": [
    "%%capture\n",
    "! python3 ./apsynsim/SCRIPT/APSYNSIM_Python3.py"
   ]
  },
  {
   "cell_type": "code",
   "execution_count": null,
   "metadata": {},
   "outputs": [],
   "source": []
  },
  {
   "cell_type": "code",
   "execution_count": null,
   "metadata": {},
   "outputs": [],
   "source": []
  },
  {
   "cell_type": "code",
   "execution_count": null,
   "metadata": {},
   "outputs": [],
   "source": []
  }
 ],
 "metadata": {
  "kernelspec": {
   "display_name": "Python 3",
   "language": "python",
   "name": "python3"
  },
  "language_info": {
   "codemirror_mode": {
    "name": "ipython",
    "version": 3
   },
   "file_extension": ".py",
   "mimetype": "text/x-python",
   "name": "python",
   "nbconvert_exporter": "python",
   "pygments_lexer": "ipython3",
   "version": "3.7.0"
  }
 },
 "nbformat": 4,
 "nbformat_minor": 2
}
