{
 "cells": [
  {
   "cell_type": "markdown",
   "metadata": {},
   "source": [
    "# Basic Fourier imaging\n",
    "\n",
    "In this first tutorial / exercise session, we will explore properties of te Fourier transform: the most crucial piece of math in radio interferometry.\n",
    "\n",
    "## Jupyter notebooks\n",
    "\n",
    "For the practical exercises, we will use jupyter notebooks and Python 3.7. If you have never used this before, take some time to explore the menu options. There are text cells like this one, and code cells. To execute a cell, press either `<ctrl-enter>`, `<shift-enter>`, or `<alt-enter>`. Try them all and see what happens.\n",
    "\n",
    "To edit a cell, click on it or press `<enter>`. To leave cell-editing mode and enter notebook-editing mode, press `<esc>`. To remove a cell, go to notebook-editing mode, select the cell, and press `x`. \n",
    "\n",
    "## Harmonic signals / Fourier relations\n",
    "\n",
    "We begin by deriving/recalling a bunch of relations that will come in handy during the rest of the course. As is customary, we will mostly work in the complex domain, describing for example the electric field at a fixed position in space as\n",
    "\n",
    "$$\n",
    "V(t) = \\cos(2\\pi\\nu t) = \\Re\\left\\lbrace \\mathrm{e}^{\\pm2\\pi\\mathrm{i}\\nu t}\\right\\rbrace,\n",
    "$$\n",
    "where $\\nu$ is the frequency and $t$ is time. We call\n",
    "$$\n",
    "\\mathcal{V}(t) =  \\mathrm{e}^{\\pm2\\pi\\mathrm{i}\\nu t}\n",
    "$$\n",
    "the \"complex voltage\" to distinguish it from the actual voltage. The choice of sign here is arbitrary, but in any real world applications, whatever sign one chooses by convention at one point in for example a signal chain, determines the signs/conjugations at other points.\n",
    "\n",
    "For the time-to-frequency Fourier transform, we use the following form:\n",
    "$$\n",
    "f(\\nu) = \\mathcal{F}^-\\left\\lbrace V(t)\\right\\rbrace = \\int_{-\\infty}^{+\\infty} V(t) \\mathrm{e}^{-2\\pi\\mathrm{i}\\nu t}\\ \\mathrm{d}t\n",
    "$$\n",
    "with inverse\n",
    "$$\n",
    "V(t) = \\mathcal{F}^+\\left\\lbrace f(\\nu)\\right\\rbrace = \\int_{-\\infty}^{+\\infty} f(\\nu) \\mathrm{e}^{+2\\pi\\mathrm{i}\\nu t}\\ \\mathrm{d}\\nu\n",
    "$$\n",
    "\n",
    "\n",
    "**Remember that if something seems too simple to be true, it is most likely correct**"
   ]
  },
  {
   "cell_type": "markdown",
   "metadata": {},
   "source": [
    "# Interactive part\n",
    "\n",
    "The cell below ensures that we have all the pylab and matplotlib functions available in the main Python namespace. It also ensures that other python modules are reloaded at every cell evaluation. This makes editing complex code elsewhere (for example in fourierexploration.py) , and immediately evaluating it here much easier. One does not have to re-evaluate the entire notebook after every change!\n"
   ]
  },
  {
   "cell_type": "code",
   "execution_count": 1,
   "metadata": {},
   "outputs": [
    {
     "name": "stdout",
     "output_type": "stream",
     "text": [
      "Populating the interactive namespace from numpy and matplotlib\n"
     ]
    }
   ],
   "source": [
    "%pylab widget\n",
    "%load_ext autoreload\n",
    "%autoreload 2"
   ]
  },
  {
   "cell_type": "markdown",
   "metadata": {},
   "source": [
    "### 1.5) Sinc interactive\n",
    "\n",
    "In the cell below we plot this sinc function for a certain bandwidth and delay. Read the code and make sure you understand each step. Play around with the sliders to build some intuition. When does the first null occur? Does that agree with what you expected?"
   ]
  },
  {
   "cell_type": "code",
   "execution_count": 2,
   "metadata": {},
   "outputs": [
    {
     "data": {
      "application/vnd.jupyter.widget-view+json": {
       "model_id": "f0d9f99d872748fd894bc4702e157617",
       "version_major": 2,
       "version_minor": 0
      },
      "text/plain": [
       "Canvas(toolbar=Toolbar(toolitems=[('Home', 'Reset original view', 'home', 'home'), ('Back', 'Back to previous …"
      ]
     },
     "metadata": {},
     "output_type": "display_data"
    },
    {
     "data": {
      "application/vnd.jupyter.widget-view+json": {
       "model_id": "193ee8de92424d21a33421ec34434609",
       "version_major": 2,
       "version_minor": 0
      },
      "text/plain": [
       "interactive(children=(FloatSlider(value=1.0, description='Plot $\\\\Delta \\\\nu$ [MHz]: ', layout=Layout(width='8…"
      ]
     },
     "metadata": {},
     "output_type": "display_data"
    }
   ],
   "source": [
    "import ipywidgets # Module that allows one to interact with plots\n",
    "\n",
    "def plot_sinc(ax, bandwidth_plot_range_MHz, delay_us):\n",
    "    '''\n",
    "    Plot the sinc function sin(pi delta_nu tau)/(pi delta_nu tau).\n",
    "    \n",
    "    Parameters\n",
    "    ----------\n",
    "    \n",
    "    ax : matplotlib.AxesSubplot\n",
    "        Subplot to draw on.\n",
    "        \n",
    "    bandwidth_plot_range_MHz : float\n",
    "        Maximum bandwidth delta_nu in the plot in MHz.\n",
    "        \n",
    "    delay_us : float\n",
    "        Delay tau in microseconds.\n",
    "    '''\n",
    "    dnu_MHz = linspace(0.0, bandwidth_plot_range_MHz, 300)\n",
    "    result = sinc(dnu_MHz*delay_us)\n",
    "\n",
    "    ax.cla()\n",
    "    ax.set_title(r'$\\frac{\\sin(\\pi\\Delta\\nu\\tau)}{\\pi\\Delta\\nu\\tau}$ for $\\tau$ = %.3f $\\mu$s' % delay_us)\n",
    "    ax.plot(dnu_MHz, result, lw=2)\n",
    "    ax.set_xlabel(r'Bandwidth $\\Delta\\nu$ [MHz]')\n",
    "    ax.set_xlim(dnu_MHz.min(), dnu_MHz.max())\n",
    "    ax.set_ylim(-0.25,1.03)\n",
    "    ax.grid()\n",
    "\n",
    "    \n",
    "# Create the figure and interact with the \"plot_sinc\" function\n",
    "fig_1 = figure(figsize=(6,4), dpi=150)  # Create a figure using matplotlib\n",
    "ax_1 = fig_1.subplots(1,1)              # Create sub plots (1 row, 1 column)\n",
    "\n",
    "layout = ipywidgets.Layout(width='80%')\n",
    "desc_style =  {'description_width': 'initial'}\n",
    "\n",
    "_ = ipywidgets.interact(\n",
    "    plot_sinc,\n",
    "    ax=ipywidgets.fixed(ax_1),\n",
    "    bandwidth_plot_range_MHz=ipywidgets.FloatSlider(\n",
    "        min=0.05, max=10, step=0.05, value=1,\n",
    "        description=r'Plot $\\Delta \\nu$ [MHz]: ',\n",
    "        layout=layout,\n",
    "        readout_format='.3f',\n",
    "        style=desc_style),\n",
    "    delay_us=ipywidgets.FloatSlider(\n",
    "        min=0.000, max=10, step=0.001, value=1,\n",
    "        description=r'$\\tau$ [$\\mu$s]: ',\n",
    "        layout=layout,\n",
    "        readout_format='.3f',\n",
    "        style=desc_style))"
   ]
  },
  {
   "cell_type": "markdown",
   "metadata": {},
   "source": [
    "### 1.6) Heterodyne\n",
    "\n",
    "Most radio telescope receiver systems involve up- and down converters that shift the frequency of the signals from the sky up or down by multiplying the signal analoguely with a local oscillator. This process is called \"heterodyning\", and the most common radio receiver chain is the the so-called superheterodyne receiver in which the incoming signal is mixed up or down by a tunable amount, to fit right into a fixed-frequency range amplifier and filtering chain called the intermediate frequency, or \"IF\". The part that performs the multiplication is the mixer:\n",
    "\n",
    "![Heterodyne mixer (Wikipedia)](./IdealMixer.png \"Heterodyne mixer (Wikipedia).\")\n",
    "\n",
    "We start deriving what happens there using the addition rules for sine and cosine functions. This is easiest starting from the complex domain.\n",
    "\n",
    "Given angles $a$ and $b$, derive from \n",
    "$$ \\mathrm{e}^{\\mathrm{i}(a+b)}$$\n",
    "that\n",
    "$$ \\cos(a+b) = \\cos a \\cos b - \\sin a \\sin b$$\n",
    "and\n",
    "$$ \\sin(a+b) = \\sin a \\cos b + \\cos a \\sin b.$$\n",
    "\n",
    "Show that a mixer multiplying two cosine waves (for example input and local oscillator) produces a signal that contains the sum as well as the difference frequency:\n",
    "$$\\cos 2\\pi\\nu_\\mathrm{in}t \\cos 2\\pi\\nu_\\mathrm{LO}t  = \\frac{1}{2}\\left[\\cos(2\\pi(\\nu_\\mathrm{in}+\\nu_\\mathrm{LO}) t) + \\cos(2\\pi(\\nu_\\mathrm{in}-\\nu_\\mathrm{LO}) t)\\right]$$\n",
    "\n",
    "To create a down-converter module, one needs to add a filter that rejects the highest mixing product (heterodyne) and passes the lowest heterodyne.  \n",
    "\n",
    "Note that when the mixing is done in the complex domain (for example digitally), it simply amounts to applying the Fourier shift theorem."
   ]
  },
  {
   "cell_type": "markdown",
   "metadata": {},
   "source": [
    "### ANSWER\n",
    "\n",
    "$$ \\mathrm{e}^{\\mathrm{i}(a+b)} = \\mathrm{e}^{\\mathrm{i}a}\\mathrm{e}^{\\mathrm{i}b}$$\n",
    "$$\\cos(a+b)+\\mathrm{i}\\sin(a+b) = (\\cos a + \\mathrm{i}\\sin a)(\\cos b + \\mathrm{i} \\sin b)$$\n",
    "$$\\cos(a+b)+\\mathrm{i}\\sin(a+b) = \\cos a \\cos b - \\sin a \\sin b + \\mathrm{i}(\\sin a \\cos b + \\cos a \\sin b)$$\n",
    "Where the real part gives the rule for the cosine and the imaginary part that for the sine.\n",
    "\n",
    "Now, take the mean of the equations for the cosine of the sum and difference of two angles:\n",
    "$$\\frac{1}{2}(\\cos(a+b) + \\cos(a-b)) = \\frac{1}{2} (2 \\cos a \\cos b -\\sin a \\sin b + \\sin a \\sin b) = \\cos a \\cos b$$"
   ]
  },
  {
   "cell_type": "markdown",
   "metadata": {},
   "source": [
    "The cell below allows you to play with mixing different frequencies. Study it carefully, then run it."
   ]
  },
  {
   "cell_type": "code",
   "execution_count": 3,
   "metadata": {},
   "outputs": [
    {
     "data": {
      "application/vnd.jupyter.widget-view+json": {
       "model_id": "186aff8087e14086952425fde030589d",
       "version_major": 2,
       "version_minor": 0
      },
      "text/plain": [
       "Canvas(toolbar=Toolbar(toolitems=[('Home', 'Reset original view', 'home', 'home'), ('Back', 'Back to previous …"
      ]
     },
     "metadata": {},
     "output_type": "display_data"
    },
    {
     "data": {
      "application/vnd.jupyter.widget-view+json": {
       "model_id": "fd54a9d80a894a26bbf6920b4b83e99a",
       "version_major": 2,
       "version_minor": 0
      },
      "text/plain": [
       "interactive(children=(FloatSlider(value=175.0, description='f_1_MHz', layout=Layout(width='80%'), max=300.0, m…"
      ]
     },
     "metadata": {},
     "output_type": "display_data"
    }
   ],
   "source": [
    "def plot_heterodyne(ax, f_1_MHz, f_2_MHz):\n",
    "    time_s = linspace(0, 200e-9, 1000)\n",
    "    time_ns = time_s*1e9\n",
    "    frequency_1_hz = 1e6*f_1_MHz\n",
    "    frequency_2_hz = 1e6*f_2_MHz\n",
    "\n",
    "    signal_1 = cos(2*pi*frequency_1_hz*time_s)\n",
    "    signal_2 = cos(2*pi*frequency_2_hz*time_s)\n",
    "    signal_sumfreq = 0.5*cos(2*pi*(frequency_1_hz+frequency_2_hz)*time_s)\n",
    "    signal_difffreq = 0.5*cos(2*pi*(frequency_1_hz-frequency_2_hz)*time_s)\n",
    "    \n",
    "    for a in ax:\n",
    "        a.cla()\n",
    "        \n",
    "    ax[0].set_title(f'Input signals at {f_1_MHz:.1f} and {f_2_MHz:.1f} MHz')\n",
    "    ax[0].plot(time_ns, vstack([signal_1, signal_2]).T)\n",
    "    ax[0].set_xticklabels([])\n",
    "\n",
    "    ax[1].set_title('Sum of inputs')\n",
    "    ax[1].plot(time_ns, signal_1+signal_2, lw=2, alpha=0.5)\n",
    "    ax[1].set_xticklabels([])\n",
    "\n",
    "    ax[2].set_title('Product of inputs')\n",
    "    ax[2].plot(time_ns, signal_1*signal_2, lw=2, alpha=0.5)\n",
    "    ax[2].set_xticklabels([])\n",
    "\n",
    "    ax[3].set_title(f'Components in output at: {f_2_MHz-f_1_MHz:.1f} and {f_1_MHz+f_2_MHz:.1f} MHz')\n",
    "    ax[3].plot(time_ns, vstack([signal_sumfreq, signal_difffreq]).T, lw=2, alpha=0.5)\n",
    "    ax[3].set_xlabel('Time [ns]')\n",
    "\n",
    "\n",
    "# Create the figure and axes, and interact\n",
    "fig_2 = figure(figsize=(8,7), dpi=150)\n",
    "ax_2 = fig_2.subplots(4,1)\n",
    "\n",
    "layout = ipywidgets.Layout(width='80%')\n",
    "_ = ipywidgets.interact(\n",
    "    plot_heterodyne,\n",
    "    ax=ipywidgets.fixed(ax_2),\n",
    "    f_1_MHz=ipywidgets.FloatSlider(min=10., max=300., step=0.2, value=175., layout=layout),\n",
    "    f_2_MHz=ipywidgets.FloatSlider(min=10., max=300., step=0.2, value=200., layout=layout))"
   ]
  },
  {
   "cell_type": "markdown",
   "metadata": {},
   "source": [
    "### 1.7)\n",
    "See what happens when the input frequencies are close together and far apart. Explain what you see."
   ]
  },
  {
   "cell_type": "markdown",
   "metadata": {},
   "source": [
    "### ANSWER\n",
    "\n",
    "Well, you *have* proven that the *sum* of two waves can be written as the product of two others..."
   ]
  },
  {
   "cell_type": "markdown",
   "metadata": {},
   "source": [
    "# In two dimensions\n",
    "\n",
    "The relations derived above are easily extended to two dimensions. Because a radio interferometer does not directly measure the sky, but instead samples (to first order, and under certain conditions) the two-dimensional Fourier transform of the sky, it is time to gain some intuition in that respect. The Fourier image is called the \"uv-plane\" after the conventional names of its coordinates.\n",
    "\n",
    "The fourierexploration.py module contains the gui and simulation code for the next cell. Feel free to have a look at it, but right now it is more important to start playing with it.\n",
    "\n",
    "The original image is on the top left, its Fourier transform on the top right, the modified uv-plane bottom right, and the Fourier transform of the modified uv-plane (\"Dirty image\") on the bottom left. The uv-planes indicate amplitude by brightness, and phase by color. In the uv-plane, large scales end up at the centre, while small scales end up at the edges. Execute the next cell and answer the questions below it."
   ]
  },
  {
   "cell_type": "code",
   "execution_count": 4,
   "metadata": {},
   "outputs": [
    {
     "ename": "ImportError",
     "evalue": "cannot import name '_fftpack' from 'scipy.fftpack' (/home/brentjens/VirtualEnvs/jupyter/lib/python3.8/site-packages/scipy/fftpack/__init__.py)",
     "output_type": "error",
     "traceback": [
      "\u001b[0;31m---------------------------------------------------------------------------\u001b[0m",
      "\u001b[0;31mImportError\u001b[0m                               Traceback (most recent call last)",
      "\u001b[0;32m<ipython-input-4-ce4e8843335c>\u001b[0m in \u001b[0;36m<module>\u001b[0;34m\u001b[0m\n\u001b[0;32m----> 1\u001b[0;31m \u001b[0;32mimport\u001b[0m \u001b[0mfourierexploration\u001b[0m \u001b[0;32mas\u001b[0m \u001b[0mfe\u001b[0m\u001b[0;34m\u001b[0m\u001b[0;34m\u001b[0m\u001b[0m\n\u001b[0m\u001b[1;32m      2\u001b[0m \u001b[0;34m\u001b[0m\u001b[0m\n\u001b[1;32m      3\u001b[0m \u001b[0mfe_gui\u001b[0m \u001b[0;34m=\u001b[0m \u001b[0mfe\u001b[0m\u001b[0;34m.\u001b[0m\u001b[0mFourierExplorerGui\u001b[0m\u001b[0;34m(\u001b[0m\u001b[0mfigsize\u001b[0m\u001b[0;34m=\u001b[0m\u001b[0;34m(\u001b[0m\u001b[0;36m8\u001b[0m\u001b[0;34m,\u001b[0m\u001b[0;36m8\u001b[0m\u001b[0;34m)\u001b[0m\u001b[0;34m,\u001b[0m \u001b[0mdpi\u001b[0m\u001b[0;34m=\u001b[0m\u001b[0;36m150\u001b[0m\u001b[0;34m)\u001b[0m\u001b[0;34m\u001b[0m\u001b[0;34m\u001b[0m\u001b[0m\n\u001b[1;32m      4\u001b[0m \u001b[0;34m\u001b[0m\u001b[0m\n\u001b[1;32m      5\u001b[0m \u001b[0mshirt\u001b[0m \u001b[0;34m=\u001b[0m \u001b[0mfe\u001b[0m\u001b[0;34m.\u001b[0m\u001b[0mimread\u001b[0m\u001b[0;34m(\u001b[0m\u001b[0;34m'shirt-bw.png'\u001b[0m\u001b[0;34m)\u001b[0m\u001b[0;34m\u001b[0m\u001b[0;34m\u001b[0m\u001b[0m\n",
      "\u001b[0;32m~/Teaching/Radio-astronomy/Tutorials/ra-tutorial-1/fourierexploration.py\u001b[0m in \u001b[0;36m<module>\u001b[0;34m\u001b[0m\n\u001b[1;32m     24\u001b[0m \u001b[0;32mimport\u001b[0m \u001b[0mmatplotlib\u001b[0m\u001b[0;34m.\u001b[0m\u001b[0mpyplot\u001b[0m \u001b[0;32mas\u001b[0m \u001b[0mplt\u001b[0m\u001b[0;34m\u001b[0m\u001b[0;34m\u001b[0m\u001b[0m\n\u001b[1;32m     25\u001b[0m \u001b[0;32mimport\u001b[0m \u001b[0mmatplotlib\u001b[0m\u001b[0;34m.\u001b[0m\u001b[0mcolors\u001b[0m \u001b[0;32mas\u001b[0m \u001b[0mmcol\u001b[0m\u001b[0;34m\u001b[0m\u001b[0;34m\u001b[0m\u001b[0m\n\u001b[0;32m---> 26\u001b[0;31m \u001b[0;32mimport\u001b[0m \u001b[0mpyfftw\u001b[0m\u001b[0;34m\u001b[0m\u001b[0;34m\u001b[0m\u001b[0m\n\u001b[0m\u001b[1;32m     27\u001b[0m \u001b[0;32mimport\u001b[0m \u001b[0mpyfftw\u001b[0m\u001b[0;34m.\u001b[0m\u001b[0minterfaces\u001b[0m\u001b[0;34m.\u001b[0m\u001b[0mscipy_fftpack\u001b[0m \u001b[0;32mas\u001b[0m \u001b[0mfftwpack\u001b[0m\u001b[0;34m\u001b[0m\u001b[0;34m\u001b[0m\u001b[0m\n\u001b[1;32m     28\u001b[0m \u001b[0;32mimport\u001b[0m \u001b[0mnumba\u001b[0m\u001b[0;34m\u001b[0m\u001b[0;34m\u001b[0m\u001b[0m\n",
      "\u001b[0;32m~/VirtualEnvs/jupyter/lib/python3.8/site-packages/pyfftw/__init__.py\u001b[0m in \u001b[0;36m<module>\u001b[0;34m\u001b[0m\n\u001b[1;32m     41\u001b[0m \u001b[0;32mfrom\u001b[0m \u001b[0;34m.\u001b[0m \u001b[0;32mimport\u001b[0m \u001b[0mconfig\u001b[0m\u001b[0;34m\u001b[0m\u001b[0;34m\u001b[0m\u001b[0m\n\u001b[1;32m     42\u001b[0m \u001b[0;32mfrom\u001b[0m \u001b[0;34m.\u001b[0m \u001b[0;32mimport\u001b[0m \u001b[0mbuilders\u001b[0m\u001b[0;34m\u001b[0m\u001b[0;34m\u001b[0m\u001b[0m\n\u001b[0;32m---> 43\u001b[0;31m \u001b[0;32mfrom\u001b[0m \u001b[0;34m.\u001b[0m \u001b[0;32mimport\u001b[0m \u001b[0minterfaces\u001b[0m\u001b[0;34m\u001b[0m\u001b[0;34m\u001b[0m\u001b[0m\n\u001b[0m\u001b[1;32m     44\u001b[0m \u001b[0;34m\u001b[0m\u001b[0m\n\u001b[1;32m     45\u001b[0m \u001b[0;34m\u001b[0m\u001b[0m\n",
      "\u001b[0;32m~/VirtualEnvs/jupyter/lib/python3.8/site-packages/pyfftw/interfaces/__init__.py\u001b[0m in \u001b[0;36m<module>\u001b[0;34m\u001b[0m\n\u001b[1;32m    235\u001b[0m \u001b[0;32melse\u001b[0m\u001b[0;34m:\u001b[0m\u001b[0;34m\u001b[0m\u001b[0;34m\u001b[0m\u001b[0m\n\u001b[1;32m    236\u001b[0m     \u001b[0;32mdel\u001b[0m \u001b[0mscipy\u001b[0m\u001b[0;34m\u001b[0m\u001b[0;34m\u001b[0m\u001b[0m\n\u001b[0;32m--> 237\u001b[0;31m     \u001b[0;32mfrom\u001b[0m \u001b[0;34m.\u001b[0m \u001b[0;32mimport\u001b[0m \u001b[0mscipy_fftpack\u001b[0m\u001b[0;34m\u001b[0m\u001b[0;34m\u001b[0m\u001b[0m\n\u001b[0m\u001b[1;32m    238\u001b[0m \u001b[0;34m\u001b[0m\u001b[0m\n\u001b[1;32m    239\u001b[0m \u001b[0;34m\u001b[0m\u001b[0m\n",
      "\u001b[0;32m~/VirtualEnvs/jupyter/lib/python3.8/site-packages/pyfftw/interfaces/scipy_fftpack.py\u001b[0m in \u001b[0;36m<module>\u001b[0;34m\u001b[0m\n\u001b[1;32m     63\u001b[0m \u001b[0;34m\u001b[0m\u001b[0m\n\u001b[1;32m     64\u001b[0m \u001b[0;31m# Complete the namespace (these are not actually used in this module)\u001b[0m\u001b[0;34m\u001b[0m\u001b[0;34m\u001b[0m\u001b[0;34m\u001b[0m\u001b[0m\n\u001b[0;32m---> 65\u001b[0;31m from scipy.fftpack import (dct, idct, dst, idst, diff, tilbert, itilbert,\n\u001b[0m\u001b[1;32m     66\u001b[0m         \u001b[0mhilbert\u001b[0m\u001b[0;34m,\u001b[0m \u001b[0mihilbert\u001b[0m\u001b[0;34m,\u001b[0m \u001b[0mcs_diff\u001b[0m\u001b[0;34m,\u001b[0m \u001b[0msc_diff\u001b[0m\u001b[0;34m,\u001b[0m \u001b[0mss_diff\u001b[0m\u001b[0;34m,\u001b[0m \u001b[0mcc_diff\u001b[0m\u001b[0;34m,\u001b[0m\u001b[0;34m\u001b[0m\u001b[0;34m\u001b[0m\u001b[0m\n\u001b[1;32m     67\u001b[0m         \u001b[0mshift\u001b[0m\u001b[0;34m,\u001b[0m \u001b[0mfftshift\u001b[0m\u001b[0;34m,\u001b[0m \u001b[0mifftshift\u001b[0m\u001b[0;34m,\u001b[0m \u001b[0mfftfreq\u001b[0m\u001b[0;34m,\u001b[0m \u001b[0mrfftfreq\u001b[0m\u001b[0;34m,\u001b[0m\u001b[0;34m\u001b[0m\u001b[0;34m\u001b[0m\u001b[0m\n",
      "\u001b[0;31mImportError\u001b[0m: cannot import name '_fftpack' from 'scipy.fftpack' (/home/brentjens/VirtualEnvs/jupyter/lib/python3.8/site-packages/scipy/fftpack/__init__.py)"
     ]
    }
   ],
   "source": [
    "import fourierexploration as fe\n",
    "\n",
    "fe_gui = fe.FourierExplorerGui(figsize=(8,8), dpi=150)\n",
    "\n",
    "shirt = fe.imread('shirt-bw.png')\n",
    "pikachu = fe.imread('pikachu.png')\n",
    "poliwhirl = fe.imread('poliwhirl.png')\n",
    "\n",
    "fe_gui.interact({'Point source': fe.point_source_image,\n",
    "                 'Pikachu': pikachu,\n",
    "                 'Shirt': shirt,\n",
    "                 'Poliwhirl': poliwhirl})"
   ]
  },
  {
   "cell_type": "markdown",
   "metadata": {},
   "source": [
    "### 1.8) Point source\n",
    "\n",
    "Start with the point source. It should be at the centre. Move the shift sliders, and describe what happens. Now try the maximum and minimum baseline sliders. Describe what you find."
   ]
  },
  {
   "cell_type": "markdown",
   "metadata": {},
   "source": [
    "### 1.9) Pikachu\n",
    "\n",
    "Set everything back to the original positions and load Pikachu. Try both the dB and Linear brightness scales for the uv-plane. Do you see a sinc-like pattern? What does that tell you about the drawing? Verify your hypothesis by using the sliders."
   ]
  },
  {
   "cell_type": "markdown",
   "metadata": {},
   "source": [
    "### 1.10) Shirt\n",
    "\n",
    "The uv-plane is highly structured. Why? Try to associate parts of the uv-plane with features in the image. Use the zoom-button (second from right in the button-bar) if necessary. What disappears first if you increase the minimum baseline? What happens when you reduce the maximum baseline to that value and set the minimum baseline to 0? What causes the bright spots far in the dark corners of the uv-plane?"
   ]
  },
  {
   "cell_type": "markdown",
   "metadata": {},
   "source": [
    "# APSYNSIM\n",
    "\n",
    "There is an interesting tool written by Ivan Marti-Vidal (Onsala, SE), in which one can do similar experiments with actual uv-coverages of real radio telescopes. Executing the next cell will start the program."
   ]
  },
  {
   "cell_type": "code",
   "execution_count": 5,
   "metadata": {},
   "outputs": [],
   "source": [
    "%%capture\n",
    "! python3 ./apsynsim/SCRIPT/APSYNSIM_Python3.py"
   ]
  },
  {
   "cell_type": "code",
   "execution_count": null,
   "metadata": {},
   "outputs": [],
   "source": []
  },
  {
   "cell_type": "code",
   "execution_count": null,
   "metadata": {},
   "outputs": [],
   "source": []
  },
  {
   "cell_type": "code",
   "execution_count": null,
   "metadata": {},
   "outputs": [],
   "source": []
  }
 ],
 "metadata": {
  "kernelspec": {
   "display_name": "Python 3",
   "language": "python",
   "name": "python3"
  },
  "language_info": {
   "codemirror_mode": {
    "name": "ipython",
    "version": 3
   },
   "file_extension": ".py",
   "mimetype": "text/x-python",
   "name": "python",
   "nbconvert_exporter": "python",
   "pygments_lexer": "ipython3",
   "version": "3.8.1"
  }
 },
 "nbformat": 4,
 "nbformat_minor": 4
}
