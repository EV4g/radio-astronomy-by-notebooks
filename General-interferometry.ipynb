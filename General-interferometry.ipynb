{
 "cells": [
  {
   "cell_type": "markdown",
   "metadata": {},
   "source": [
    "# Interferometry introduction"
   ]
  },
  {
   "cell_type": "code",
   "execution_count": 1,
   "metadata": {},
   "outputs": [
    {
     "name": "stdout",
     "output_type": "stream",
     "text": [
      "Populating the interactive namespace from numpy and matplotlib\n"
     ]
    }
   ],
   "source": [
    "%pylab ipympl\n",
    "%load_ext autoreload\n",
    "%autoreload 2"
   ]
  },
  {
   "cell_type": "markdown",
   "metadata": {},
   "source": [
    "img_original = imread('shirt-picture.jpg')\n",
    "img = ones((2048, 2048,3), dtype=img_original.dtype)*255\n",
    "img[(2048-1884)//2:(2048-1884)//2+1884, 24:2024, :] = img_original\n",
    "\n",
    "img_bw = img.mean(axis=2)[512:2048-512, 512:2048-512]\n",
    "imsave(arr=img_bw, fname='shirt-bw.png')"
   ]
  },
  {
   "cell_type": "markdown",
   "metadata": {},
   "source": [
    "img_bw = imread('pikachu.png')[:,:,:3].mean(axis=2)\n",
    "#img_bw=img_bw[0:512, 256:768]"
   ]
  },
  {
   "cell_type": "code",
   "execution_count": 2,
   "metadata": {},
   "outputs": [
    {
     "data": {
      "application/vnd.jupyter.widget-view+json": {
       "model_id": "41cfcc0b039f4236a0f0549e5b49b82f",
       "version_major": 2,
       "version_minor": 0
      },
      "text/plain": [
       "FigureCanvasNbAgg()"
      ]
     },
     "metadata": {},
     "output_type": "display_data"
    },
    {
     "data": {
      "application/vnd.jupyter.widget-view+json": {
       "model_id": "7d42edb6fb9543cbbb76c2469b7633c6",
       "version_major": 2,
       "version_minor": 0
      },
      "text/plain": [
       "interactive(children=(Dropdown(description='scale', options={'Linear': <function linear at 0x7fe0e5d9c400>, 'd…"
      ]
     },
     "metadata": {},
     "output_type": "display_data"
    }
   ],
   "source": [
    "import fourierexploration as fe\n",
    "\n",
    "img_shirt = fe.imread('shirt-bw.png')\n",
    "img_pikachu = fe.imread('pikachu.png')\n",
    "\n",
    "shirt = fe.image_fn_generator(img_shirt)\n",
    "pikachu = fe.image_fn_generator(img_pikachu)\n",
    "\n",
    "fe_gui = fe.FourierExplorerGui(figsize=(8,8), dpi=150)\n",
    "fe_gui.interact({'Shirt': shirt, 'Pikachu': pikachu})"
   ]
  },
  {
   "cell_type": "markdown",
   "metadata": {},
   "source": [
    "Source images: \n",
    "\n",
    "  - single point source\n",
    "  - two point sources\n",
    "  - three differen circular gausians\n",
    "  - a field of random elliptical gausians\n",
    "  - shirt\n",
    "\n",
    "\n",
    "Example Telescopes:\n",
    "\n",
    "  - circular min / max bl\n",
    "  - WSRT\n",
    "  - VLA\n",
    "  - GMRT\n",
    "  - LOFAR Core\n",
    "  - LOFAR NL\n",
    "  - LOFAR Intl\n",
    "  \n",
    "Implement ha_range, ha_0 (only NCP projection? Set Dec?)\n",
    "\n",
    "Parameters: Image, Telescope, DEC, HA_0, HA_RANGE\n",
    "\n",
    "Panels: orig      orig-uv\n",
    "      : Dirty     uv masked with uv-cov\n",
    "      \n",
    "      \n",
    "Simulate noise separately?\n"
   ]
  },
  {
   "cell_type": "code",
   "execution_count": null,
   "metadata": {},
   "outputs": [],
   "source": []
  }
 ],
 "metadata": {
  "kernelspec": {
   "display_name": "Python 3",
   "language": "python",
   "name": "python3"
  },
  "language_info": {
   "codemirror_mode": {
    "name": "ipython",
    "version": 3
   },
   "file_extension": ".py",
   "mimetype": "text/x-python",
   "name": "python",
   "nbconvert_exporter": "python",
   "pygments_lexer": "ipython3",
   "version": "3.7.0"
  }
 },
 "nbformat": 4,
 "nbformat_minor": 2
}
