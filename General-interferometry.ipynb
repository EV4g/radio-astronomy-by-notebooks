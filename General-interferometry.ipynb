{
 "cells": [
  {
   "cell_type": "markdown",
   "metadata": {},
   "source": [
    "# Interferometry introduction"
   ]
  },
  {
   "cell_type": "code",
   "execution_count": 6,
   "metadata": {},
   "outputs": [
    {
     "name": "stdout",
     "output_type": "stream",
     "text": [
      "Populating the interactive namespace from numpy and matplotlib\n"
     ]
    }
   ],
   "source": [
    "%pylab ipympl"
   ]
  },
  {
   "cell_type": "code",
   "execution_count": 7,
   "metadata": {},
   "outputs": [],
   "source": [
    "img_original = imread('shirt-picture.jpg')\n",
    "img = ones((2048, 2048,3), dtype=img_original.dtype)*255\n",
    "img[(2048-1884)//2:(2048-1884)//2+1884, 24:2024, :] = img_original\n",
    "\n",
    "img_bw = img.mean(axis=2)[512:2048-512, 512:2048-512]\n",
    "imsave(arr=img_bw, fname='shirt-bw.png')"
   ]
  },
  {
   "cell_type": "code",
   "execution_count": 8,
   "metadata": {},
   "outputs": [],
   "source": [
    "\n",
    "#img_bw=img_bw[0:512, 256:768]"
   ]
  },
  {
   "cell_type": "code",
   "execution_count": null,
   "metadata": {},
   "outputs": [],
   "source": []
  },
  {
   "cell_type": "code",
   "execution_count": 25,
   "metadata": {},
   "outputs": [],
   "source": [
    "from ipywidgets import interact\n",
    "import ipywidgets\n",
    "from dataclasses import dataclass\n",
    "#from scipy import fftpack\n",
    "import pyfftw\n",
    "import pyfftw.interfaces.scipy_fftpack as fftwpack\n",
    "import numba\n",
    "import numexpr\n",
    "\n",
    "pyfftw.interfaces.cache.enable()\n",
    "pyfftw.interfaces.cache.set_keepalive_time(keepalive_time=1000.0)\n",
    "\n",
    "img_bw = pyfftw.empty_aligned((1024, 1024), dtype='float32')\n",
    "img_bw[:] = array(imread('shirt-bw.png')[:,:,:3].mean(axis=2), dtype=float32)\n",
    "\n",
    "@numba.njit('f4[:,:](f4[:,:])', parallel=True)\n",
    "def dB(x):\n",
    "    \"\"\"\n",
    "    Converts an array of positive, 32 bit floats to dB (10 log10(x)).\n",
    "\n",
    "    Parameters\n",
    "    ----------\n",
    "    \n",
    "    x : 2D ndarray of float32\n",
    "        The numbers to convert.\n",
    "\n",
    "    Returns\n",
    "    -------\n",
    "    2D ndarray of float32\n",
    "    \n",
    "    Examples\n",
    "    --------\n",
    "    >>> a = np.array([[0.1, 5, 100.0], [3, 0.01, 500]], dtype=np.float32)\n",
    "    >>> dB(a)\n",
    "    array([[-1.        ,  0.69897   ,  2.        ],\n",
    "           [ 0.47712123, -2.        ,  2.69897   ]], dtype=float32)\n",
    "    \"\"\"\n",
    "    \n",
    "    nrows, ncols = x.shape\n",
    "    result: numba.float32[:,:] = np.empty(x.shape, dtype=np.float32)\n",
    "    for row in numba.prange(nrows):\n",
    "        for col in range(ncols):\n",
    "            result[row, col] = np.log10(x[row, col])\n",
    "    return result\n",
    "\n",
    "\n",
    "\n",
    "\n",
    "def dB_slow(x):\n",
    "    return 10*numpy.log10(x)\n",
    "\n",
    "def linear(x):\n",
    "    return x\n",
    "\n",
    "@numba.njit('f4[:,:](i8, i8, f8, f8)')\n",
    "def min_max_bl_mask(num_y, num_x, min_bl_fraction, max_bl_fraction):\n",
    "    mask = empty((num_y, num_x), dtype=float32)\n",
    "    mid_y, mid_x = num_y//2, num_x//2\n",
    "    max_r = sqrt(mid_x**2 + mid_y**2)\n",
    "    minf2 = (min_bl_fraction*max_r)**2\n",
    "    maxf2 = (max_bl_fraction*max_r)**2\n",
    "    for y in prange(num_y):\n",
    "        for x in range(num_x):\n",
    "            r2 = (x-mid_x)**2 + (y - mid_y)**2\n",
    "            if r2 >= minf2 and r2 <= maxf2:\n",
    "                mask[y, x] = 1.0\n",
    "            else:\n",
    "                mask[y, x] = 0.0    \n",
    "    return mask\n",
    "\n",
    "\n",
    "@dataclass\n",
    "class SimulationOutput:\n",
    "    image      : numpy.ndarray\n",
    "    uv_plane   : numpy.ndarray\n",
    "    weights    : numpy.ndarray\n",
    "    weighted_uv_plane: numpy.ndarray\n",
    "    dirty_image: numpy.ndarray        \n",
    "\n",
    "\n",
    "def simulate(image, weights):\n",
    "    '''\n",
    "    image : 2D numpy.array of floats\n",
    "    \n",
    "    mask : 2D numpy.array of floats\n",
    "    '''\n",
    "    w = weights\n",
    "    uv_plane = fftwpack.fftshift(fftwpack.ifft2(image, threads=4))\n",
    "    #print(image.dtype, w.dtype, uv_plane.dtype)\n",
    "    weighted_uv_plane = pyfftw.empty_aligned(w.shape, dtype='complex64')\n",
    "    weighted_uv_plane[:] = w*uv_plane\n",
    "    dirty_image       = fftwpack.fft2(fftwpack.fftshift(weighted_uv_plane), threads=4).real\n",
    "    #print(dirty_image.dtype)\n",
    "    return SimulationOutput(image, uv_plane,\n",
    "                            weights, weighted_uv_plane,\n",
    "                           dirty_image)"
   ]
  },
  {
   "cell_type": "code",
   "execution_count": 21,
   "metadata": {},
   "outputs": [
    {
     "data": {
      "application/vnd.jupyter.widget-view+json": {
       "model_id": "c47270a23d874a84b43f4f383594e3b7",
       "version_major": 2,
       "version_minor": 0
      },
      "text/plain": [
       "FigureCanvasNbAgg()"
      ]
     },
     "metadata": {},
     "output_type": "display_data"
    },
    {
     "data": {
      "text/plain": [
       "<matplotlib.image.AxesImage at 0x7f2c9c0698d0>"
      ]
     },
     "execution_count": 21,
     "metadata": {},
     "output_type": "execute_result"
    }
   ],
   "source": [
    "fig = figure(dpi=100)\n",
    "ax = fig.subplots(1,1)\n",
    "ax.imshow(min_max_bl_mask(1024, 1024, 0.1, 0.707))"
   ]
  },
  {
   "cell_type": "markdown",
   "metadata": {},
   "source": [
    "%%timeit\n",
    "mask = min_max_bl_mask(1024, 1024, 0.1, 0.707)"
   ]
  },
  {
   "cell_type": "markdown",
   "metadata": {},
   "source": [
    "mask = min_max_bl_mask(1024, 1024, 0.1, 0.707)"
   ]
  },
  {
   "cell_type": "markdown",
   "metadata": {},
   "source": [
    "%%timeit\n",
    " _ = simulate(img_bw, mask)"
   ]
  },
  {
   "cell_type": "markdown",
   "metadata": {},
   "source": [
    "%%timeit\n",
    "_,_ = percentile(img_bw[::20,::20], [1,99])"
   ]
  },
  {
   "cell_type": "code",
   "execution_count": 26,
   "metadata": {},
   "outputs": [
    {
     "name": "stdout",
     "output_type": "stream",
     "text": [
      "2.88 ms ± 66.4 µs per loop (mean ± std. dev. of 7 runs, 100 loops each)\n"
     ]
    }
   ],
   "source": [
    "%%timeit\n",
    "dB(img_bw)"
   ]
  },
  {
   "cell_type": "code",
   "execution_count": 23,
   "metadata": {},
   "outputs": [
    {
     "name": "stdout",
     "output_type": "stream",
     "text": [
      "8.73 ms ± 113 µs per loop (mean ± std. dev. of 7 runs, 100 loops each)\n"
     ]
    }
   ],
   "source": [
    "%%timeit\n",
    "dB_slow(img_bw)"
   ]
  },
  {
   "cell_type": "code",
   "execution_count": 24,
   "metadata": {},
   "outputs": [
    {
     "data": {
      "text/plain": [
       "3.0739436619718314"
      ]
     },
     "execution_count": 24,
     "metadata": {},
     "output_type": "execute_result"
    }
   ],
   "source": [
    "8.73/2.84"
   ]
  },
  {
   "cell_type": "code",
   "execution_count": 12,
   "metadata": {},
   "outputs": [
    {
     "data": {
      "application/vnd.jupyter.widget-view+json": {
       "model_id": "fe656a1c3a0a491282e445b90d217a1f",
       "version_major": 2,
       "version_minor": 0
      },
      "text/plain": [
       "FigureCanvasNbAgg()"
      ]
     },
     "metadata": {},
     "output_type": "display_data"
    },
    {
     "data": {
      "application/vnd.jupyter.widget-view+json": {
       "model_id": "9b20aaf455834d65885433e53c73e6be",
       "version_major": 2,
       "version_minor": 0
      },
      "text/plain": [
       "interactive(children=(Dropdown(description='scale', options={'Linear': <function linear at 0x7f2c9f15bd08>, 'd…"
      ]
     },
     "metadata": {},
     "output_type": "display_data"
    }
   ],
   "source": [
    "#%%prun -s cumulative\n",
    "\n",
    "fig = figure(figsize=(8,8),dpi=180)\n",
    "((ax_tl, ax_tr), (ax_bl, ax_br)) = fig.subplots(2,2)\n",
    "fig.subplots_adjust(hspace=0, wspace=0)\n",
    "cbar_o = None\n",
    "cbar_m = None\n",
    "first_time = True\n",
    "\n",
    "ax_tl_img = None\n",
    "ax_tr_img = None\n",
    "ax_bl_img = None\n",
    "ax_br_img = None\n",
    "\n",
    "previous_simresult = None\n",
    "\n",
    "def replot(scale, img, min_bl_fraction, max_bl_fraction):\n",
    "    global cbar_o, cbar_m\n",
    "    global ax_tl_img, ax_tr_img, ax_bl_img, ax_br_img\n",
    "    global previous_simresult\n",
    "    mask = min_max_bl_mask(img[0].shape[0],img[0].shape[1] , min_bl_fraction/100.0, max_bl_fraction/100.0)\n",
    "    \n",
    "    sim_result = simulate(img[0], mask)\n",
    "    # Original\n",
    "    vmin, vmax = percentile(sim_result.image[::20,::20], [1, 99])\n",
    "    if ax_tl_img is None:\n",
    "        ax_tl_img = ax_tl.imshow(sim_result.image, cmap=cm.Greys_r, vmin=vmin, vmax=vmax,\n",
    "                                interpolation='nearest')\n",
    "        ax_tl.set_xticks([])\n",
    "        ax_tl.set_yticks([])\n",
    "    else:\n",
    "        ax_tl_img.set_data(sim_result.image)\n",
    "        ax_tl_img.set_clim(vmin, vmax)\n",
    "\n",
    "    # Original uv plane\n",
    "    to_plot = scale(numpy.absolute(sim_result.uv_plane))\n",
    "    vmin, vmax = percentile(to_plot[::20,::20], (0.5, 99.0))\n",
    "    if ax_tr_img is None:\n",
    "        ax_tr_img = ax_tr.imshow(to_plot, vmax=vmax, vmin=vmin,\n",
    "                                interpolation='nearest')\n",
    "        ax_tr.set_xticks([])\n",
    "        ax_tr.set_yticks([])\n",
    "    else:\n",
    "        ax_tr_img.set_data(to_plot)\n",
    "        ax_tr_img.set_clim(vmin, vmax)\n",
    "\n",
    "    # Masked uv plane\n",
    "    to_plot = scale(numpy.absolute(sim_result.weighted_uv_plane))\n",
    "    if ax_br_img is None:\n",
    "        ax_br_img = ax_br.imshow(to_plot, vmax=vmax, vmin=vmin,\n",
    "                                interpolation='nearest')\n",
    "        ax_br.set_xticks([])\n",
    "        ax_br.set_yticks([])\n",
    "    else:\n",
    "        ax_br_img.set_data(to_plot)\n",
    "        ax_br_img.set_clim(vmin, vmax)\n",
    "        \n",
    "    # Dirty image\n",
    "    vmin, vmax = percentile(sim_result.dirty_image[::20,::20], [1, 99])\n",
    "    if ax_bl_img is None:\n",
    "        ax_bl_img = ax_bl.imshow(sim_result.dirty_image, cmap=cm.Greys_r,\n",
    "                                 vmin=vmin, vmax=vmax,\n",
    "                                interpolation='nearest')\n",
    "        ax_bl.set_xticks([])\n",
    "        ax_bl.set_yticks([])\n",
    "    else:\n",
    "        ax_bl_img.set_data(sim_result.dirty_image)\n",
    "        ax_bl_img.set_clim(vmin, vmax)\n",
    "    previous_simresult = sim_result\n",
    "    fig.canvas.draw_idle() # Apparently a bit faster than fig.canvas.draw()\n",
    "\n",
    "#for _ in range(100):\n",
    "#    replot(linear, (img_bw,), 10.0, 70.0)\n",
    "\n",
    "interact(replot,\n",
    "         scale={'Linear': linear, 'dB': dB},\n",
    "         img={'Shirt': (img_bw,)},\n",
    "        min_bl_fraction=ipywidgets.FloatSlider(min=0, max=100, step=0.25, value=0, continuous_update=True ),\n",
    "        max_bl_fraction=ipywidgets.FloatSlider(min=0, max=100, step=0.25, value=100, continuous_update=True));"
   ]
  },
  {
   "cell_type": "markdown",
   "metadata": {},
   "source": [
    "Source images: \n",
    "\n",
    "  - single point source\n",
    "  - two point sources\n",
    "  - three differen circular gausians\n",
    "  - a field of random elliptical gausians\n",
    "  - shirt\n",
    "\n",
    "\n",
    "Example Telescopes:\n",
    "\n",
    "  - circular min / max bl\n",
    "  - WSRT\n",
    "  - VLA\n",
    "  - GMRT\n",
    "  - LOFAR Core\n",
    "  - LOFAR NL\n",
    "  - LOFAR Intl\n",
    "  \n",
    "Implement ha_range, ha_0 (only NCP projection? Set Dec?)\n",
    "\n",
    "Parameters: Image, Telescope, DEC, HA_0, HA_RANGE\n",
    "\n",
    "Panels: orig      orig-uv\n",
    "      : Dirty     uv masked with uv-cov\n",
    "      \n",
    "      \n",
    "Simulate noise separately?\n"
   ]
  },
  {
   "cell_type": "code",
   "execution_count": 12,
   "metadata": {},
   "outputs": [
    {
     "data": {
      "text/plain": [
       "'module://ipympl.backend_nbagg'"
      ]
     },
     "execution_count": 12,
     "metadata": {},
     "output_type": "execute_result"
    }
   ],
   "source": [
    "matplotlib.get_backend()"
   ]
  },
  {
   "cell_type": "code",
   "execution_count": 4,
   "metadata": {},
   "outputs": [
    {
     "name": "stdout",
     "output_type": "stream",
     "text": [
      "Help on function imread in module matplotlib.pyplot:\n",
      "\n",
      "imread(*args, **kwargs)\n",
      "    Read an image from a file into an array.\n",
      "    \n",
      "    *fname* may be a string path, a valid URL, or a Python\n",
      "    file-like object.  If using a file object, it must be opened in binary\n",
      "    mode.\n",
      "    \n",
      "    If *format* is provided, will try to read file of that type,\n",
      "    otherwise the format is deduced from the filename.  If nothing can\n",
      "    be deduced, PNG is tried.\n",
      "    \n",
      "    Return value is a :class:`numpy.array`.  For grayscale images, the\n",
      "    return array is MxN.  For RGB images, the return value is MxNx3.\n",
      "    For RGBA images the return value is MxNx4.\n",
      "    \n",
      "    matplotlib can only read PNGs natively, but if `PIL\n",
      "    <http://www.pythonware.com/products/pil/>`_ is installed, it will\n",
      "    use it to load the image and return an array (if possible) which\n",
      "    can be used with :func:`~matplotlib.pyplot.imshow`. Note, URL strings\n",
      "    may not be compatible with PIL. Check the PIL documentation for more\n",
      "    information.\n",
      "\n"
     ]
    }
   ],
   "source": [
    "help(imread)\n"
   ]
  },
  {
   "cell_type": "code",
   "execution_count": null,
   "metadata": {},
   "outputs": [],
   "source": []
  }
 ],
 "metadata": {
  "kernelspec": {
   "display_name": "Python 3",
   "language": "python",
   "name": "python3"
  },
  "language_info": {
   "codemirror_mode": {
    "name": "ipython",
    "version": 3
   },
   "file_extension": ".py",
   "mimetype": "text/x-python",
   "name": "python",
   "nbconvert_exporter": "python",
   "pygments_lexer": "ipython3",
   "version": "3.7.0"
  }
 },
 "nbformat": 4,
 "nbformat_minor": 2
}
