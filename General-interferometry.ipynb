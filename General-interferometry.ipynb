{
 "cells": [
  {
   "cell_type": "markdown",
   "metadata": {},
   "source": [
    "# Interferometry introduction"
   ]
  },
  {
   "cell_type": "code",
   "execution_count": 4,
   "metadata": {},
   "outputs": [
    {
     "name": "stdout",
     "output_type": "stream",
     "text": [
      "Populating the interactive namespace from numpy and matplotlib\n",
      "The autoreload extension is already loaded. To reload it, use:\n",
      "  %reload_ext autoreload\n"
     ]
    }
   ],
   "source": [
    "%pylab ipympl\n",
    "%load_ext autoreload\n",
    "%autoreload 2"
   ]
  },
  {
   "cell_type": "code",
   "execution_count": 7,
   "metadata": {},
   "outputs": [
    {
     "data": {
      "application/vnd.jupyter.widget-view+json": {
       "model_id": "6dc0a9d79ebb49f7bdba8b7f0977df10",
       "version_major": 2,
       "version_minor": 0
      },
      "text/plain": [
       "FigureCanvasNbAgg()"
      ]
     },
     "metadata": {},
     "output_type": "display_data"
    },
    {
     "data": {
      "application/vnd.jupyter.widget-view+json": {
       "model_id": "e7bab4e06b9a403f9e63152f59df390f",
       "version_major": 2,
       "version_minor": 0
      },
      "text/plain": [
       "interactive(children=(Dropdown(description='scale', options={'Linear': <function linear at 0x7fe0d49b5ae8>, 'd…"
      ]
     },
     "metadata": {},
     "output_type": "display_data"
    }
   ],
   "source": [
    "import fourierexploration as fe\n",
    "\n",
    "fe_gui = fe.FourierExplorerGui(figsize=(8,8), dpi=150)\n",
    "\n",
    "shirt = fe.imread('shirt-bw.png')\n",
    "pikachu = fe.imread('pikachu.png')\n",
    "\n",
    "fe_gui.interact({'Shirt': shirt, 'Pikachu': pikachu})"
   ]
  },
  {
   "cell_type": "markdown",
   "metadata": {},
   "source": [
    "Source images: \n",
    "\n",
    "  - single point source\n",
    "  - two point sources\n",
    "  - three differen circular gausians\n",
    "  - a field of random elliptical gausians\n",
    "  - shirt\n",
    "\n",
    "\n",
    "Example Telescopes:\n",
    "\n",
    "  - circular min / max bl\n",
    "  - WSRT\n",
    "  - VLA\n",
    "  - GMRT\n",
    "  - LOFAR Core\n",
    "  - LOFAR NL\n",
    "  - LOFAR Intl\n",
    "  \n",
    "Implement ha_range, ha_0 (only NCP projection? Set Dec?)\n",
    "\n",
    "Parameters: Image, Telescope, DEC, HA_0, HA_RANGE\n",
    "\n",
    "Panels: orig      orig-uv\n",
    "      : Dirty     uv masked with uv-cov\n",
    "      \n",
    "      \n",
    "Simulate noise separately?\n"
   ]
  },
  {
   "cell_type": "code",
   "execution_count": null,
   "metadata": {},
   "outputs": [],
   "source": []
  }
 ],
 "metadata": {
  "kernelspec": {
   "display_name": "Python 3",
   "language": "python",
   "name": "python3"
  },
  "language_info": {
   "codemirror_mode": {
    "name": "ipython",
    "version": 3
   },
   "file_extension": ".py",
   "mimetype": "text/x-python",
   "name": "python",
   "nbconvert_exporter": "python",
   "pygments_lexer": "ipython3",
   "version": "3.7.0"
  }
 },
 "nbformat": 4,
 "nbformat_minor": 2
}
