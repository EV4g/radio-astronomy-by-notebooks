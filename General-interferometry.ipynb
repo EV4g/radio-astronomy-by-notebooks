{
 "cells": [
  {
   "cell_type": "markdown",
   "metadata": {},
   "source": [
    "# Interferometry introduction"
   ]
  },
  {
   "cell_type": "code",
   "execution_count": 1,
   "metadata": {},
   "outputs": [
    {
     "name": "stdout",
     "output_type": "stream",
     "text": [
      "Populating the interactive namespace from numpy and matplotlib\n"
     ]
    }
   ],
   "source": [
    "%pylab ipympl\n",
    "%load_ext autoreload\n",
    "%autoreload 2"
   ]
  },
  {
   "cell_type": "code",
   "execution_count": 2,
   "metadata": {},
   "outputs": [
    {
     "data": {
      "application/vnd.jupyter.widget-view+json": {
       "model_id": "cad1499d75a94b7c98688589fef3593e",
       "version_major": 2,
       "version_minor": 0
      },
      "text/plain": [
       "FigureCanvasNbAgg()"
      ]
     },
     "metadata": {},
     "output_type": "display_data"
    },
    {
     "data": {
      "application/vnd.jupyter.widget-view+json": {
       "model_id": "037f873ef9524a29801fb8031c0598ad",
       "version_major": 2,
       "version_minor": 0
      },
      "text/plain": [
       "interactive(children=(Dropdown(description='Image', options={'Shirt': <function make_closure.<locals>.closure_…"
      ]
     },
     "metadata": {},
     "output_type": "display_data"
    }
   ],
   "source": [
    "import fourierexploration as fe\n",
    "\n",
    "fe_gui = fe.FourierExplorerGui(figsize=(8,8), dpi=150)\n",
    "\n",
    "shirt = fe.imread('shirt-bw.png')\n",
    "pikachu = fe.imread('pikachu.png')\n",
    "\n",
    "fe_gui.interact({'Shirt': shirt, 'Pikachu': pikachu})"
   ]
  },
  {
   "cell_type": "code",
   "execution_count": 3,
   "metadata": {},
   "outputs": [],
   "source": [
    "s_fft = fe.fftwpack.fftshift(fe.fftwpack.ifft2(shirt(), threads=4))"
   ]
  },
  {
   "cell_type": "code",
   "execution_count": 4,
   "metadata": {},
   "outputs": [
    {
     "name": "stdout",
     "output_type": "stream",
     "text": [
      " "
     ]
    },
    {
     "data": {
      "text/plain": [
       "         159 function calls in 0.083 seconds\n",
       "\n",
       "   Ordered by: cumulative time\n",
       "\n",
       "   ncalls  tottime  percall  cumtime  percall filename:lineno(function)\n",
       "        1    0.000    0.000    0.083    0.083 {built-in method builtins.exec}\n",
       "        1    0.000    0.000    0.083    0.083 <string>:3(<module>)\n",
       "        1    0.035    0.035    0.083    0.083 fourierexploration.py:358(complex_rgb)\n",
       "        1    0.040    0.040    0.040    0.040 function_base.py:1311(angle)\n",
       "        1    0.001    0.001    0.008    0.008 fourierexploration.py:349(hsv_to_rgb)\n",
       "        1    0.004    0.004    0.004    0.004 {method 'copy' of 'numpy.ndarray' objects}\n",
       "        1    0.002    0.002    0.002    0.002 {cvtColor}\n",
       "        1    0.000    0.000    0.000    0.000 function_base.py:3398(percentile)\n",
       "        1    0.000    0.000    0.000    0.000 function_base.py:3647(_quantile_unchecked)\n",
       "        1    0.000    0.000    0.000    0.000 function_base.py:3199(_ureduce)\n",
       "        1    0.000    0.000    0.000    0.000 function_base.py:3672(_quantile_ureduce_func)\n",
       "        5    0.000    0.000    0.000    0.000 numeric.py:1524(moveaxis)\n",
       "       10    0.000    0.000    0.000    0.000 numeric.py:1468(normalize_axis_tuple)\n",
       "        1    0.000    0.000    0.000    0.000 {method 'partition' of 'numpy.ndarray' objects}\n",
       "        1    0.000    0.000    0.000    0.000 fromnumeric.py:1933(any)\n",
       "        1    0.000    0.000    0.000    0.000 {method 'flatten' of 'numpy.ndarray' objects}\n",
       "        1    0.000    0.000    0.000    0.000 fromnumeric.py:64(_wrapreduction)\n",
       "        1    0.000    0.000    0.000    0.000 {built-in method numpy.core.multiarray.empty}\n",
       "        1    0.000    0.000    0.000    0.000 {method 'reduce' of 'numpy.ufunc' objects}\n",
       "        2    0.000    0.000    0.000    0.000 numerictypes.py:687(issubdtype)\n",
       "        2    0.000    0.000    0.000    0.000 fromnumeric.py:86(take)\n",
       "        4    0.000    0.000    0.000    0.000 {built-in method numpy.core.multiarray.array}\n",
       "        4    0.000    0.000    0.000    0.000 numerictypes.py:619(issubclass_)\n",
       "       20    0.000    0.000    0.000    0.000 numeric.py:1515(<genexpr>)\n",
       "        2    0.000    0.000    0.000    0.000 fromnumeric.py:49(_wrapfunc)\n",
       "        1    0.000    0.000    0.000    0.000 function_base.py:3659(_quantile_is_valid)\n",
       "        2    0.000    0.000    0.000    0.000 numeric.py:433(asarray)\n",
       "        2    0.000    0.000    0.000    0.000 {built-in method numpy.core.multiarray.concatenate}\n",
       "        5    0.000    0.000    0.000    0.000 {built-in method builtins.sorted}\n",
       "        2    0.000    0.000    0.000    0.000 {method 'take' of 'numpy.ndarray' objects}\n",
       "        1    0.000    0.000    0.000    0.000 numeric.py:504(asanyarray)\n",
       "       31    0.000    0.000    0.000    0.000 {built-in method builtins.len}\n",
       "        5    0.000    0.000    0.000    0.000 {method 'transpose' of 'numpy.ndarray' objects}\n",
       "       10    0.000    0.000    0.000    0.000 {built-in method numpy.core.multiarray.normalize_axis_index}\n",
       "        7    0.000    0.000    0.000    0.000 {built-in method builtins.issubclass}\n",
       "        1    0.000    0.000    0.000    0.000 {method 'astype' of 'numpy.ndarray' objects}\n",
       "        2    0.000    0.000    0.000    0.000 {built-in method builtins.getattr}\n",
       "        5    0.000    0.000    0.000    0.000 {method 'insert' of 'list' objects}\n",
       "        5    0.000    0.000    0.000    0.000 numeric.py:1586(<listcomp>)\n",
       "       10    0.000    0.000    0.000    0.000 {built-in method _operator.index}\n",
       "        1    0.000    0.000    0.000    0.000 {method 'items' of 'dict' objects}\n",
       "        1    0.000    0.000    0.000    0.000 fourierexploration.py:358(<lambda>)\n",
       "        1    0.000    0.000    0.000    0.000 {method 'disable' of '_lsprof.Profiler' objects}\n",
       "        1    0.000    0.000    0.000    0.000 {method 'get' of 'dict' objects}"
      ]
     },
     "metadata": {},
     "output_type": "display_data"
    }
   ],
   "source": [
    "%%prun -s cumulative\n",
    "\n",
    "_ = fe.complex_rgb(s_fft)"
   ]
  },
  {
   "cell_type": "markdown",
   "metadata": {},
   "source": [
    "Source images: \n",
    "\n",
    "  - single point source\n",
    "  - two point sources\n",
    "  - three differen circular gausians\n",
    "  - a field of random elliptical gausians\n",
    "  - shirt\n",
    "\n",
    "\n",
    "Example Telescopes:\n",
    "\n",
    "  - circular min / max bl\n",
    "  - WSRT\n",
    "  - VLA\n",
    "  - GMRT\n",
    "  - LOFAR Core\n",
    "  - LOFAR NL\n",
    "  - LOFAR Intl\n",
    "  \n",
    "Implement ha_range, ha_0 (only NCP projection? Set Dec?)\n",
    "\n",
    "Parameters: Image, Telescope, DEC, HA_0, HA_RANGE\n",
    "\n",
    "Panels: orig      orig-uv\n",
    "      : Dirty     uv masked with uv-cov\n",
    "      \n",
    "      \n",
    "Simulate noise separately?\n"
   ]
  },
  {
   "cell_type": "code",
   "execution_count": null,
   "metadata": {},
   "outputs": [],
   "source": []
  }
 ],
 "metadata": {
  "kernelspec": {
   "display_name": "Python 3",
   "language": "python",
   "name": "python3"
  },
  "language_info": {
   "codemirror_mode": {
    "name": "ipython",
    "version": 3
   },
   "file_extension": ".py",
   "mimetype": "text/x-python",
   "name": "python",
   "nbconvert_exporter": "python",
   "pygments_lexer": "ipython3",
   "version": "3.7.0"
  }
 },
 "nbformat": 4,
 "nbformat_minor": 2
}
