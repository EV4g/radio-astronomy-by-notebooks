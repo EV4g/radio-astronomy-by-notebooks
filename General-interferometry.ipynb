{
 "cells": [
  {
   "cell_type": "markdown",
   "metadata": {},
   "source": [
    "# Basic Fourier imaging\n",
    "\n",
    "In this first tutorial / exercise session, we will explore elementary synthesis imaging concepts. We start out with a quick reminder of some Fourier theory, followed by an attempt to use VLA data to make an image of our Milky Way's centre, containing the radio source Sagittarius A* (Sgr A*), the central radio source.\n",
    "\n",
    "## Jupyter notebooks\n",
    "\n",
    "For the practical exercises, we will use jupyter notebooks and Python 3.7. If you have never used this before, take some time to explore the menu options. There are text cells like this one, and code cells. To execute a cell, press either `<ctrl-enter>`, `<shift-enter>`, or `<alt-enter>`. Try them all and see what happens.\n",
    "\n",
    "To edit a cell, click on it or press `<enter>`. To leave cell-editing mode and enter notebook-editing mode, press `<esc>`. To remove a cell, go to notebook-editing mode, select the cell, and press `x`. \n",
    "\n",
    "## Harmonic signals / Fourier relations\n",
    "\n",
    "We begin by deriving/recalling a bunch of relations that will come in handy during the rest of the course. As is customary, we will mostly work in the complex domain, describing for example the electric field as\n",
    "\n",
    "$$\n",
    "V(t) = \\cos(2\\pi\\nu t) = \\Re\\left\\lbrace \\mathrm{e}^{\\pm2\\pi\\mathrm{i}\\nu t}\\right\\rbrace,\n",
    "$$\n",
    "where $\\nu$ is the frequency and $t$ is time. We call\n",
    "$$\n",
    "V(t) =  \\mathrm{e}^{\\pm2\\pi\\mathrm{i}\\nu t}\n",
    "$$\n",
    "the \"complex voltage\" to distinguish it from the actual voltage. The choice of sign here is arbitrary, but in any real world applications, whatever sign one chooses by convention at one point in for example a signal chain, determines the signs/conjugations at other points.\n",
    "\n",
    "For the time-to-frequency Fourier transform, we use the following form:\n",
    "$$\n",
    "f(\\nu) = \\mathcal{F}^-\\left\\lbrace V(t)\\right\\rbrace = \\int_{-\\infty}^{+\\infty} V(t) \\mathrm{e}^{-2\\pi\\mathrm{i}\\nu t}\\ \\mathrm{d}t\n",
    "$$\n",
    "with inverse\n",
    "$$\n",
    "V(t) = \\mathcal{F}^+\\left\\lbrace(\\nu)\\right\\rbrace = \\int_{-\\infty}^{+\\infty} f(\\nu) \\mathrm{e}^{+2\\pi\\mathrm{i}\\nu t}\\ \\mathrm{d}\\nu\n",
    "$$\n",
    "\n",
    "\n",
    "**Remember that if it seems too simple to be true, it is most likely correct**"
   ]
  },
  {
   "cell_type": "markdown",
   "metadata": {},
   "source": [
    "### 1.1) Dirac $\\delta$ function\n",
    "\n",
    "Show that the Fourier transform of a contant function is the Dirac $\\delta$ function(https://en.wikipedia.org/wiki/Dirac_delta_function): \n",
    "\n",
    "$$\\mathcal{F}^-\\lbrace{f(t) = 1\\rbrace} = \\delta(\\nu),$$\n",
    "as well as\n",
    "$$\\mathcal{F}^+\\lbrace{f(\\nu) = 1\\rbrace} = \\delta(t).$$  "
   ]
  },
  {
   "cell_type": "markdown",
   "metadata": {},
   "source": [
    "### ANSWER\n",
    "\n",
    "$$\n",
    "\\mathcal{F}^-\\lbrace{1\\rbrace} = \\delta(\\nu)\n",
    "$$\n",
    "implies\n",
    "$$\n",
    "\\mathcal{F}^+\\lbrace{\\delta(\\nu)\\rbrace} = 1\n",
    "$$\n",
    "\n",
    "$$\\int_{-\\infty}^{+\\infty} \\delta(\\nu) \\mathrm{e}^{+2\\pi\\mathrm{i}\\nu t}\\ \\mathrm{d}\\nu = \\mathrm{e}^{+2\\pi\\mathrm{i}0 t},$$\n",
    "which is of course equal to 1. Same for the inverse transform."
   ]
  },
  {
   "cell_type": "markdown",
   "metadata": {},
   "source": [
    "### 1.2) Shift theorem\n",
    "\n",
    "Show through variable substitution that \n",
    "$$\\mathcal{F}^-\\lbrace f(t-\\tau) \\rbrace(\\nu) \n",
    "   =\\mathrm{e}^{-2\\pi\\mathrm{i}\\nu\\tau}\\mathcal{F}^-\\lbrace f(t) \\rbrace$$, or in other words: *A shift in one domain corresponds to multiplication by a phase gradient in the other*"
   ]
  },
  {
   "cell_type": "markdown",
   "metadata": {},
   "source": [
    "### ANSWER\n",
    "\n",
    "We have\n",
    "$$ \\int_{-\\infty}^{+\\infty} f(t-\\tau) \\mathrm{e}^{-2\\pi\\mathrm{i}\\nu t}\\ \\mathrm{d}t.$$\n",
    "Let $\\xi = (t -\\tau)$ and therefore $\\frac{\\mathrm{d}t}{\\mathrm{d}\\xi} = 1$,\n",
    "thus\n",
    "$$ \\int_{-\\infty}^{+\\infty} f(\\xi) \\mathrm{e}^{-2\\pi\\mathrm{i}\\nu (\\xi+\\tau)}\\ \\mathrm{d}\\xi$$\n",
    "$$ = \\int_{-\\infty}^{+\\infty} f(\\xi) \\mathrm{e}^{-2\\pi\\mathrm{i}\\nu \\xi}\\mathrm{e}^{-2\\pi\\mathrm{i}\\nu \\tau}\\ \\mathrm{d}\\xi$$\n",
    "$$ =\\mathrm{e}^{-2\\pi\\mathrm{i}\\nu \\tau}\\int_{-\\infty}^{+\\infty} f(\\xi) \\mathrm{e}^{-2\\pi\\mathrm{i}\\nu \\xi}\\ \\mathrm{d}\\xi$$"
   ]
  },
  {
   "cell_type": "markdown",
   "metadata": {},
   "source": [
    "### 1.3) Scaling theorem\n",
    "\n",
    "Show through variable substitution that \n",
    "$$\\mathcal{F}^-\\lbrace f(a\\cdot t) \\rbrace(\\nu) \n",
    "   =|a|^{-1}\\mathcal{F}^-\\lbrace f(t) \\rbrace (\\nu/a)$$, or qualitatively: *Short things in one domain become proportionally longer in the other and v.v., while maintaining their integral.*"
   ]
  },
  {
   "cell_type": "markdown",
   "metadata": {},
   "source": [
    "### ANSWER\n",
    "\n",
    "$$ \\int_{-\\infty}^{+\\infty} f(a\\cdot t) \\mathrm{e}^{-2\\pi\\mathrm{i}\\nu t}\\ \\mathrm{d}t.$$\n",
    "\n",
    "Let $\\xi = a t$, thus $\\frac{\\mathrm{d}t}{\\mathrm{d}\\xi} = a^{-1}$. Therefore\n",
    "\n",
    "$$ \\int_{-\\infty}^{+\\infty} f(\\xi) \\mathrm{e}^{-2\\pi\\mathrm{i}\\nu \\xi/a} |a|^{-1}\\ \\mathrm{d}\\xi$$\n",
    "The absolute value appears because if $a < 0$, $\\mathrm{d}\\xi$ runs opposite to $\\mathrm{d}t$, adding a minus sign in front of the integral.\n",
    "$$= \\int_{-\\infty}^{+\\infty} f(\\xi) \\mathrm{e}^{-2\\pi\\mathrm{i}\\xi \\nu/a} |a|^{-1}\\ \\mathrm{d}\\xi$$\n",
    "$$= |a|^{-1}\\int_{-\\infty}^{+\\infty} f(\\xi) \\mathrm{e}^{-2\\pi\\mathrm{i}\\xi (\\nu/a)} \\ \\mathrm{d}\\xi$$\n",
    "Thus,\n",
    "$$= |a|^{-1}\\mathcal{F}^-\\lbrace f(t) \\rbrace (\\nu/a).$$\n"
   ]
  },
  {
   "cell_type": "markdown",
   "metadata": {},
   "source": [
    "### 1.4) Sinc function\n",
    "\n",
    "One often has to average a range of complex numbers, for example approximately linearly varying phase errors, or a bright source's visibilities over a certain bandwidth. The ``sinc(x)`` function will invariably show up in one scaling or another. Given a certain delay $\\tau$ between two radio signals, the phase difference between them as a function of frequency $\\nu$, is given by $2\\pi\\nu\\tau$.\n",
    "\n",
    "Show that, when averaging the complex phasor $\\mathrm{e}^{2\\pi\\mathrm{i}\\nu\\tau}$ between frequencies $\\nu_0 - \\Delta\\nu/2$ and $\\nu_0 + \\Delta\\nu/2$, the result is given by \n",
    "$$\n",
    "\\Delta\\nu^{-1}\\int_{\\nu_0-\\Delta\\nu/2}^{\\nu_0+\\Delta\\nu/2} \\mathrm{e}^{2\\pi\\mathrm{i}\\nu\\tau}\\ \\mathrm{d}\\nu =\n",
    "\\mathrm{e}^{2\\pi\\mathrm{i}\\nu_0\\tau}\\frac{\\sin(\\pi\\Delta\\nu\\tau)}{\\pi\\Delta\\nu\\tau}\n",
    "$$\n",
    "\n",
    "The fraction $\\frac{\\sin(\\pi x)}{\\pi x}$ is often written as $\\mathrm{sinc}(x)$. `numpy` uses this definition. Note that in some conventions, one instead uses $\\mathrm{sinc}(x) = \\frac{\\sin(x)}{x}$, therefore one should *always* pay attention what is used, and preferable forego the notation $\\mathrm{sinc}(x)$ altogether.\n",
    "\n",
    "The $\\mathrm{sinc}$ function is indeed the Fourier transform of a top-hat function with unit width and unit integral. If you haven't already, check that you can derive the same result using the shift- and scaling theorems. \n",
    "\n",
    "Note that when performing this average, the resulting phase is the mean phase, and the amplitude is reduced. This effect is often called *decorrelation*. \n",
    "\n"
   ]
  },
  {
   "cell_type": "markdown",
   "metadata": {},
   "source": [
    "### ANSWER\n",
    "\n",
    "$$\\Delta\\nu^{-1}\\int_{\\nu_0-\\Delta\\nu/2}^{\\nu_0+\\Delta\\nu/2} \\mathrm{e}^{2\\pi\\mathrm{i}\\nu\\tau}\\ \\mathrm{d}\\nu.$$\n",
    "Per the shift theorem,\n",
    "$$\\frac{\\mathrm{e}^{2\\pi\\mathrm{i}\\nu_0\\tau}}{\\Delta\\nu}\\int_{-\\Delta\\nu/2}^{+\\Delta\\nu/2} \\mathrm{e}^{2\\pi\\mathrm{i}\\nu\\tau}\\ \\mathrm{d}\\nu.$$\n",
    "\n",
    "Splitting the real and imaginary parts, we get\n",
    "$$\\frac{\\mathrm{e}^{2\\pi\\mathrm{i}\\nu_0\\tau}}{\\Delta\\nu}\\int_{-\\Delta\\nu/2}^{+\\Delta\\nu/2} \\cos{2\\pi\\nu\\tau} + \\mathrm{i}\\sin{2\\pi\\nu\\tau}\\ \\mathrm{d}\\nu.$$\n",
    "The $\\sin$ term is anti-symmetric around 0, hence its integral vanishes in this symmetric interval around 0. This leaves us with\n",
    "$$\\frac{\\mathrm{e}^{2\\pi\\mathrm{i}\\nu_0\\tau}}{\\Delta\\nu}\\int_{-\\Delta\\nu/2}^{+\\Delta\\nu/2} \\cos{2\\pi\\nu\\tau} \\ \\mathrm{d}\\nu,$$\n",
    "which is easily integrated:\n",
    "$$\\frac{\\mathrm{e}^{2\\pi\\mathrm{i}\\nu_0\\tau}}{\\Delta\\nu}\\left[\\frac{\\sin{2\\pi\\nu\\tau}}{2\\pi\\tau}\\right]_{-\\Delta\\nu/2}^{+\\Delta\\nu/2}$$\n",
    "$$=\\frac{\\mathrm{e}^{2\\pi\\mathrm{i}\\nu_0\\tau}}{\\Delta\\nu}\\left[\\frac{\\sin{2\\pi\\Delta\\nu\\tau/2}}{2\\pi\\tau} + \\frac{\\sin{2\\pi\\Delta\\nu\\tau/2}}{2\\pi\\tau}\\right]$$\n",
    "$$=\\mathrm{e}^{2\\pi\\mathrm{i}\\nu_0\\tau}\\frac{\\sin{\\pi\\Delta\\nu\\tau}}{\\pi\\Delta\\nu\\tau}$$\n",
    "\n",
    "\n",
    "\n",
    "### ALTERNATIVE\n",
    "\n",
    "Let $R(\\nu)$ be  the top-hat function with unit width, centred at 0, and with unit integral. The problem to solve is then: \n",
    "$$\\mathcal{F}^+\\left\\lbrace {\\Delta\\nu}^{-1}R\\left(\\frac{\\nu-\\nu_0}{\\Delta\\nu}\\right)\\right\\rbrace(\\tau)$$\n",
    "$${\\Delta\\nu}^{-1}\\mathcal{F}^+\\left\\lbrace R\\left(\\frac{\\nu-\\nu_0}{\\Delta\\nu}\\right)\\right\\rbrace(\\tau)$$\n",
    "Applying the scaling theorem yields:\n",
    "$$\\mathcal{F}^+\\left\\lbrace R\\left(\\nu-\\nu_0\\right)\\right\\rbrace(\\tau\\Delta\\nu)$$\n",
    "And the shift theorem:\n",
    "$$\\mathrm{e}^{2\\pi\\mathrm{i}\\nu_0\\tau}\\mathcal{F}^+\\left\\lbrace R\\left(\\nu\\right)\\right\\rbrace(\\tau\\Delta\\nu)$$\n",
    "With\n",
    "$$\\mathcal{F}^+\\left\\lbrace R\\left(\\nu\\right)\\right\\rbrace = \\mathrm{sinc}(\\tau)$$\n",
    "we end up with\n",
    "$$\\mathrm{e}^{2\\pi\\mathrm{i}\\nu_0\\tau}\\mathrm{sinc}(\\tau\\Delta\\nu)$$\n"
   ]
  },
  {
   "cell_type": "markdown",
   "metadata": {},
   "source": [
    "# Interactive part\n",
    "\n",
    "The cell below ensures that we have all the pylab and matplotlib functions available in the main Python namespace. It also automatically reloads other python modules at every cell evaluation, which makes editing complex code elsewhere, and including it here much easier.\n"
   ]
  },
  {
   "cell_type": "code",
   "execution_count": 17,
   "metadata": {},
   "outputs": [
    {
     "name": "stdout",
     "output_type": "stream",
     "text": [
      "Populating the interactive namespace from numpy and matplotlib\n",
      "The autoreload extension is already loaded. To reload it, use:\n",
      "  %reload_ext autoreload\n"
     ]
    }
   ],
   "source": [
    "%pylab ipympl\n",
    "%load_ext autoreload\n",
    "%autoreload 2"
   ]
  },
  {
   "cell_type": "markdown",
   "metadata": {},
   "source": [
    "In the cell below we plot this sinc function for a certain bandwidth and delay. Read the code and make sure you understand each step. Play around with the sliders to build some intuition. When does the first null occur? Does that agree with what you expected?"
   ]
  },
  {
   "cell_type": "code",
   "execution_count": 20,
   "metadata": {},
   "outputs": [
    {
     "data": {
      "application/vnd.jupyter.widget-view+json": {
       "model_id": "4b204eef55b3476cbdea7e2b9c4d638a",
       "version_major": 2,
       "version_minor": 0
      },
      "text/plain": [
       "FigureCanvasNbAgg()"
      ]
     },
     "metadata": {},
     "output_type": "display_data"
    },
    {
     "data": {
      "application/vnd.jupyter.widget-view+json": {
       "model_id": "1662ebc0c6aa42a78cc3710423d947af",
       "version_major": 2,
       "version_minor": 0
      },
      "text/plain": [
       "interactive(children=(FloatSlider(value=1.0, description='Plot $\\\\Delta \\\\nu$ [MHz]: ', layout=Layout(width='8…"
      ]
     },
     "metadata": {},
     "output_type": "display_data"
    }
   ],
   "source": [
    "import ipywidgets # Module that allows one to interact with plots\n",
    "\n",
    "def plot_sinc(ax, bandwidth_plot_range_MHz, delay_us):\n",
    "    '''\n",
    "    Plot the sinc function sin(pi delta_nu tau)/(pi delta_nu tau).\n",
    "    \n",
    "    Parameters\n",
    "    ----------\n",
    "    \n",
    "    ax : matplotlib.AxesSubplot\n",
    "        Subplot to draw on.\n",
    "        \n",
    "    bandwidth_plot_range_MHz : float\n",
    "        Maximum bandwidth delta_nu in the plot in MHz.\n",
    "        \n",
    "    delay_us : float\n",
    "        Delay tau in microseconds.\n",
    "    '''\n",
    "    dnu_MHz = linspace(0.0, bandwidth_plot_range_MHz, 300)\n",
    "    result = sinc(dnu_MHz*delay_us)\n",
    "\n",
    "    ax.cla()\n",
    "    ax.set_title(r'$\\frac{\\sin(\\pi\\Delta\\nu\\tau)}{\\pi\\Delta\\nu\\tau}$ for $\\tau$ = %.3f $\\mu$s' % delay_us)\n",
    "    ax.plot(dnu_MHz, result, lw=2)\n",
    "    ax.set_xlabel(r'Bandwidth $\\Delta\\nu$ [MHz]')\n",
    "    ax.set_xlim(dnu_MHz.min(), dnu_MHz.max())\n",
    "    ax.set_ylim(-0.25,1.03)\n",
    "    ax.grid()\n",
    "\n",
    "    \n",
    "# Create the figure and interact with the \"plot_sinc\" function\n",
    "fig = figure(figsize=(6,4), dpi=150)  # Create a figure using matplotlib\n",
    "ax = fig.subplots(1,1)                # Create sub plots (1 row, 1 column)\n",
    "\n",
    "layout = ipywidgets.Layout(width='80%')\n",
    "desc_style =  {'description_width': 'initial'}\n",
    "\n",
    "_ = ipywidgets.interact(\n",
    "    plot_sinc,\n",
    "    ax=ipywidgets.fixed(ax),\n",
    "    bandwidth_plot_range_MHz=ipywidgets.FloatSlider(\n",
    "        min=0.05, max=10, step=0.05, value=1,\n",
    "        description=r'Plot $\\Delta \\nu$ [MHz]: ',\n",
    "        layout=layout,\n",
    "        readout_format='.3f',\n",
    "        style=desc_style),\n",
    "    delay_us=ipywidgets.FloatSlider(\n",
    "        min=0.000, max=10, step=0.001, value=1,\n",
    "        description=r'$\\tau$ [$\\mu$s]: ',\n",
    "        layout=layout,\n",
    "        readout_format='.3f',\n",
    "        style=desc_style))"
   ]
  },
  {
   "cell_type": "code",
   "execution_count": null,
   "metadata": {},
   "outputs": [],
   "source": []
  },
  {
   "cell_type": "markdown",
   "metadata": {},
   "source": [
    "### Heterodyne"
   ]
  },
  {
   "cell_type": "code",
   "execution_count": 14,
   "metadata": {},
   "outputs": [
    {
     "data": {
      "application/vnd.jupyter.widget-view+json": {
       "model_id": "",
       "version_major": 2,
       "version_minor": 0
      },
      "text/plain": [
       "FigureCanvasNbAgg()"
      ]
     },
     "metadata": {},
     "output_type": "display_data"
    },
    {
     "data": {
      "text/plain": [
       "[<matplotlib.lines.Line2D at 0x7f4d8df340b8>]"
      ]
     },
     "execution_count": 14,
     "metadata": {},
     "output_type": "execute_result"
    }
   ],
   "source": [
    "time_s = linspace(0, 100e-9, 1000)\n",
    "frequency_1_hz = 150e6\n",
    "frequency_2_hz = 200e6\n",
    "signal_1 = cos(2*pi*frequency_1_hz*time_s)\n",
    "signal_2 = cos(2*pi*frequency_2_hz*time_s)\n",
    "\n",
    "fig_1_1 = figure(dpi=150)\n",
    "ax_1_1_top, ax_1_1_middle, ax_1_1_bottom = fig_1_1.subplots(3,1)\n",
    "ax_1_1_top.set_title('Input signals')\n",
    "ax_1_1_top.plot(time_s, signal_1)\n",
    "ax_1_1_top.plot(time_s, signal_2)\n",
    "ax_1_1_top.set_xticklabels([])\n",
    "\n",
    "ax_1_1_middle.set_title('Sum')\n",
    "ax_1_1_middle.plot(time_s, signal_1+signal_2)\n",
    "ax_1_1_middle.set_xticklabels([])\n",
    "\n",
    "ax_1_1_bottom.set_title('Product')\n",
    "ax_1_1_bottom.plot(time_s, signal_1*signal_2)"
   ]
  },
  {
   "cell_type": "markdown",
   "metadata": {},
   "source": [
    "cos / sin addition\n"
   ]
  },
  {
   "cell_type": "code",
   "execution_count": 2,
   "metadata": {},
   "outputs": [
    {
     "data": {
      "application/vnd.jupyter.widget-view+json": {
       "model_id": "",
       "version_major": 2,
       "version_minor": 0
      },
      "text/plain": [
       "FigureCanvasNbAgg()"
      ]
     },
     "metadata": {},
     "output_type": "display_data"
    },
    {
     "data": {
      "application/vnd.jupyter.widget-view+json": {
       "model_id": "102b3779e70047cd9741a47322653792",
       "version_major": 2,
       "version_minor": 0
      },
      "text/plain": [
       "interactive(children=(Dropdown(description='img_scale', options={'Linear': <function linear at 0x7f4dbe147d90>…"
      ]
     },
     "metadata": {},
     "output_type": "display_data"
    }
   ],
   "source": [
    "import fourierexploration as fe\n",
    "\n",
    "fe_gui = fe.FourierExplorerGui(figsize=(8,8), dpi=150)\n",
    "\n",
    "shirt = fe.imread('shirt-bw.png')\n",
    "pikachu = fe.imread('pikachu.png')\n",
    "poliwhirl = fe.imread('poliwhirl.png')\n",
    "\n",
    "fe_gui.interact({'Point source': fe.point_source_image,\n",
    "                 'Shirt': shirt,\n",
    "                 'Pikachu': pikachu,\n",
    "                 'Poliwhirl': poliwhirl})"
   ]
  },
  {
   "cell_type": "code",
   "execution_count": 3,
   "metadata": {},
   "outputs": [],
   "source": [
    "s_fft = fe.fftwpack.fftshift(fe.fftwpack.ifft2(shirt(), threads=4))"
   ]
  },
  {
   "cell_type": "markdown",
   "metadata": {},
   "source": [
    "Source images: \n",
    "\n",
    "  - single point source\n",
    "  - two point sources\n",
    "  - three differen circular gausians\n",
    "  - a field of random elliptical gausians\n",
    "  - shirt\n",
    "\n",
    "\n",
    "Example Telescopes:\n",
    "\n",
    "  - circular min / max bl\n",
    "  - WSRT\n",
    "  - VLA\n",
    "  - GMRT\n",
    "  - LOFAR Core\n",
    "  - LOFAR NL\n",
    "  - LOFAR Intl\n",
    "  \n",
    "Implement ha_range, ha_0 (only NCP projection? Set Dec?)\n",
    "\n",
    "Parameters: Image, Telescope, DEC, HA_0, HA_RANGE\n",
    "\n",
    "Panels: orig      orig-uv\n",
    "      : Dirty     uv masked with uv-cov\n",
    "      \n",
    "      \n",
    "Simulate noise separately?\n"
   ]
  },
  {
   "cell_type": "code",
   "execution_count": null,
   "metadata": {},
   "outputs": [],
   "source": []
  }
 ],
 "metadata": {
  "kernelspec": {
   "display_name": "Python 3",
   "language": "python",
   "name": "python3"
  },
  "language_info": {
   "codemirror_mode": {
    "name": "ipython",
    "version": 3
   },
   "file_extension": ".py",
   "mimetype": "text/x-python",
   "name": "python",
   "nbconvert_exporter": "python",
   "pygments_lexer": "ipython3",
   "version": "3.7.0"
  }
 },
 "nbformat": 4,
 "nbformat_minor": 2
}
