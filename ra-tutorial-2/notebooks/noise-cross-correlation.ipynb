{
 "cells": [
  {
   "cell_type": "markdown",
   "id": "5007bce1-578f-4204-a1c8-f186ddff041a",
   "metadata": {},
   "source": [
    "# Noise and correlation\n",
    "\n",
    "In this notebook we'll explore some properties of noise and cross-correlated time series, as most radio-astronomical electric field measurements are in practice indistinguishable from normally distributed noise.\n",
    "\n",
    "## Setup\n",
    "First (if you haven't opend that window yet) open contextual help bij pressing \"Ctrl+i\".\n",
    "\n",
    "We now begin with a fairly standard first cell to enable automatic reloading of external modules when those external modules are changed (useful if one develops a Python library in conjunction with the notebook)."
   ]
  },
  {
   "cell_type": "code",
   "execution_count": null,
   "id": "67edbd3c-a15c-4c05-b5e1-1dad51c182cd",
   "metadata": {},
   "outputs": [],
   "source": [
    "%load_ext autoreload\n",
    "%autoreload 2\n",
    "%pylab widget"
   ]
  },
  {
   "cell_type": "markdown",
   "id": "495ca8b2-eb54-4943-ad24-41d2f371d3f3",
   "metadata": {},
   "source": [
    "The next step is to include the astropy units framework, which is a fantastic way to prevent (or catch) silly mistakes in formulas."
   ]
  },
  {
   "cell_type": "code",
   "execution_count": null,
   "id": "5bd0c66a-d6a7-4bb1-bcac-172cb8aebbb5",
   "metadata": {},
   "outputs": [],
   "source": [
    "import astropy.units as u"
   ]
  },
  {
   "cell_type": "markdown",
   "id": "70092845-dc76-4a39-b0fd-622a51c0eedc",
   "metadata": {},
   "source": [
    "The next cell contains a useful utility to easily make figures. Carefully read it to see what is does. If necessary refer to the matplotlib documentation."
   ]
  },
  {
   "cell_type": "code",
   "execution_count": null,
   "id": "34a88e0a-3d1b-4b9f-89dd-2aad82accf39",
   "metadata": {},
   "outputs": [],
   "source": [
    "def hdfig(subplots_def=None, scale=0.5):\n",
    "    fig = plt.figure(figsize=(8,4.5), dpi=scale*1920/8)\n",
    "    if subplots_def is None:\n",
    "        return fig\n",
    "    else:\n",
    "        return fig, fig.subplots(*subplots_def) # What does the asterisk here mean?"
   ]
  },
  {
   "cell_type": "markdown",
   "id": "27682170-1d06-42a6-8b40-1a12849c6137",
   "metadata": {},
   "source": [
    "## Noise generation\n",
    "\n",
    "It is now time to generate some Gaussian noise! The functions to generate it can be found in the `ifrsim/noise.py`  file. Open this file and study the functions `normalized_gaussian_noise` and `digitize`. Note the long documentation strings and included examples. These examples can actually be run and verified using the `pytest` program, so they can double as light-weight unit tests of the software.\n",
    "\n",
    "First we include the module:"
   ]
  },
  {
   "cell_type": "code",
   "execution_count": null,
   "id": "1a5fe41f-49e6-4d7a-980a-8b138a6192c9",
   "metadata": {},
   "outputs": [],
   "source": [
    "from ifrsim import noise"
   ]
  },
  {
   "cell_type": "markdown",
   "id": "18b06779-de52-4bbc-be35-56b2c10b688d",
   "metadata": {},
   "source": [
    "Complete the following two cells. Use 4 bit digitisation and assume Nyquist sampling of the real-valued voltages at the antenna terminals. If there are any concepts you do not grasp yet in the previous sentence, refer to the book(s) and study them first. Ensure `num_samp` becomes an integer of value 2000000. If you have trouble with unit conversions, refer to the astropy units documentation and see if one of the \"dimensionless\" units can be of any use. \n",
    "\n",
    "Before generating the simulated data, we first define the structure of the problem: we need to generate 10 seconds of data with a bandwidth of 1 MHz."
   ]
  },
  {
   "cell_type": "code",
   "execution_count": null,
   "id": "d113a389-1f57-4830-bd1b-b3bc70ee9ec5",
   "metadata": {},
   "outputs": [],
   "source": [
    "delta_t         = 10*u.s      # Integration time\n",
    "delta_freq      = 1*u.MHz     # Bandwidth\n",
    "sample_interval =   # Interval between individual samples. Convert to an appropriate unit FILL_IN\n",
    "num_samples     =   # FILL_IN\n",
    "print(num_samples, '|', sample_interval)"
   ]
  },
  {
   "cell_type": "markdown",
   "id": "5d6fba29-c7bc-4d69-92d3-048a85115335",
   "metadata": {},
   "source": [
    "The following cell should generate the \"original\" noise samples as floating point numbers, after which they should be digitized using a simulated 4-bit analogue to digital converter (ADC)."
   ]
  },
  {
   "cell_type": "code",
   "execution_count": null,
   "id": "8366814b-c2ed-44ff-a377-a0afff23f61a",
   "metadata": {},
   "outputs": [],
   "source": [
    "unit_noise_float = noise.normalized_gaussian_noise( )  # FILL_IN\n",
    "unit_noise_dig   = noise.digitize( ) # FILL_IN\n",
    "print(unit_noise_float[:10])\n",
    "print(unit_noise_dig[:10])"
   ]
  },
  {
   "cell_type": "markdown",
   "id": "ee50b69a-fee8-4e3f-ad29-9025876f810e",
   "metadata": {},
   "source": [
    "Verify the above output to see if it did what you would expect. Let's see what that looks like, but first study the following cell and ensure you understand every bit of code in detail. We define a function for this plot to make inspecting similar data further on easier."
   ]
  },
  {
   "cell_type": "code",
   "execution_count": null,
   "id": "7172fd5e-d01b-4ea8-ad71-bd86d6738c04",
   "metadata": {},
   "outputs": [],
   "source": [
    "def plot_sampled_signal(original_signal, sampled_signal, sample_interval, caption=None, decimation=10000):\n",
    "    x_time = np.arange(original_signal.shape[0])*sample_interval\n",
    "    fig , (ax_time, ax_hist) = hdfig((2,1))\n",
    "    fig.subplots_adjust(hspace=0.3)\n",
    "\n",
    "    ax_time.plot(x_time[::decimation], original_signal[::decimation], alpha=0.5, label='Original')\n",
    "    ax_time.scatter(x_time[::decimation], sampled_signal[::decimation], c='red', s=10, alpha=0.2, label='Sampled')\n",
    "    ax_time.legend()\n",
    "    ax_time.set_xlabel('Time [%s]' % x_time.unit)\n",
    "    ax_time.set_ylabel('Value')\n",
    "\n",
    "    if caption:\n",
    "        ax_time.set_title(caption)\n",
    "\n",
    "    ax_hist.hist(original_signal, bins=201, range=(-10.05,10.05), label='Original', log=True)\n",
    "    ax_hist.hist(sampled_signal  , bins=201, range=(-10.05,10.05), label='Sampled')\n",
    "    ax_hist.set_xlabel('Value')\n",
    "    ax_hist.set_ylabel('Count')\n",
    "    ax_hist.legend()"
   ]
  },
  {
   "cell_type": "code",
   "execution_count": null,
   "id": "86484174-1eab-4bde-ae0d-53dc774892a4",
   "metadata": {},
   "outputs": [],
   "source": [
    "plot_sampled_signal(unit_noise_float, unit_noise_dig, sample_interval, caption='Gaussian noise')"
   ]
  },
  {
   "cell_type": "markdown",
   "id": "edf4afb5-c529-42aa-a12b-f36fe4c6e0b7",
   "metadata": {},
   "source": [
    "**QUESTIONS** regarding the above plot:\n",
    "\n",
    "1. What are the most extreme values that the \"Sampled\" data can assume?\n",
    "\n",
    "2. Do you see those in the plots?\n",
    "\n",
    "3. Explain why that is good or bad.\n"
   ]
  },
  {
   "cell_type": "markdown",
   "id": "01c41cbe-c60d-4d61-8fb9-d188b8c3e821",
   "metadata": {},
   "source": [
    "## Cross-correlation power and weak signals\n",
    "\n",
    "Astronomical signals are typically extremely weak: easily thousands to even millions of times smaller in power density at the antenna terminals than the system noise. Let's see how that would work. The total power detector in a modern radio telescope is usually a correlator that computes the autocorrelation (in case of a single antenna) or cross-correlation product (in case of a baseline consisting of two antennas). Analogous to a couple of cells earlier, define three Gaussian signals:\n",
    "\n",
    "1. The thermal noise for antenna 1: unit standard deviation\n",
    "2. The thermal noise for antenna 2: unit standard deviation\n",
    "3. The gaussian signal from the universe: a standard deviation corresponding to a power density a factor 500 smaller than the noise power density for any of the antennas\n",
    "\n",
    "We use the same integration time and bandwidth as before."
   ]
  },
  {
   "cell_type": "code",
   "execution_count": null,
   "id": "0a3149d9-9d69-416b-8481-e2f573a2048d",
   "metadata": {},
   "outputs": [],
   "source": [
    "instantaneous_power_SNR_ratio = 1/500.0\n",
    "instantaneous_voltage_SNR_ratio =    # FILL_IN\n",
    "\n",
    "ant1_noise_float =   # FILL_IN\n",
    "ant2_noise_float =   # FILL_IN\n",
    "sky_signal_float =   # FILL_IN"
   ]
  },
  {
   "cell_type": "markdown",
   "id": "b8a10348-ff7b-49df-8d5d-0b04091bd76b",
   "metadata": {},
   "source": [
    "Let's first look at the samples (4 bits) of these signals individually:"
   ]
  },
  {
   "cell_type": "code",
   "execution_count": null,
   "id": "bd9c1c6a-77ec-4602-973f-8743cf47c9c4",
   "metadata": {},
   "outputs": [],
   "source": [
    "nrbits = 4\n",
    "ant1_sampled = noise.digitize(   ) # FILL_IN\n",
    "ant2_sampled = noise.digitize(   ) # FILL_IN\n",
    "sky_sampled  = noise.digitize(   ) # FILL_IN"
   ]
  },
  {
   "cell_type": "code",
   "execution_count": null,
   "id": "82b2a3b7-850c-49e2-a739-ae8138976b2e",
   "metadata": {},
   "outputs": [],
   "source": [
    "plot_sampled_signal(ant1_noise_float, ant1_sampled, sample_interval, caption='Ant 1')"
   ]
  },
  {
   "cell_type": "code",
   "execution_count": null,
   "id": "30ca25e1-58dd-44ce-858f-0ed46a372919",
   "metadata": {},
   "outputs": [],
   "source": [
    "plot_sampled_signal(ant2_noise_float, ant2_sampled, sample_interval, caption='Ant 2')"
   ]
  },
  {
   "cell_type": "code",
   "execution_count": null,
   "id": "efc3f951-c35d-4afd-af43-ebc83116a9c9",
   "metadata": {},
   "outputs": [],
   "source": [
    "plot_sampled_signal(sky_signal_float, sky_sampled, sample_interval, caption='Sky')"
   ]
  },
  {
   "cell_type": "markdown",
   "id": "904068c8-3fb9-45b4-9968-971c19f73580",
   "metadata": {},
   "source": [
    "**QUESTION**:\n",
    "Describe what you see in the above three plots, particularly the last one.\n",
    "\n",
    "**Extra**\n",
    "Play with the nrbits and the amplitudes (standard deviation) of the noise and signals in code cells 10--13 and see what happens."
   ]
  },
  {
   "cell_type": "markdown",
   "id": "32144462-7fb3-48a8-aa81-f75e1545cf26",
   "metadata": {},
   "source": [
    "How CAN we detect a signal when all its sampled values are 0? Let's first write a total power detector for two time series. Read up on `scipy`'s `signal.correlate` function to ensure you understand *exactly* what it does."
   ]
  },
  {
   "cell_type": "code",
   "execution_count": null,
   "id": "f6634c9c-e45e-4040-8704-8a5eca394801",
   "metadata": {},
   "outputs": [],
   "source": [
    "from scipy import signal\n",
    "\n",
    "def simple_real_cross_power(ant_1_voltage, ant_2_voltage, nrbits:int=4):\n",
    "    assert  ant_1_voltage.shape == ant_2_voltage.shape\n",
    "    s1 = noise.digitize(   ) # FILL_IN. Make sure to pass on the required number of bits for the ADC\n",
    "    s2 = noise.digitize(   ) # FILL_IN\n",
    "    return  signal.correlate(    , mode='same')/s1.shape[0] # FILL_IN\n",
    "\n",
    "\n",
    "def plot_real_xc(xc:'np.ndarray[np.float]', width:int, sample_interval, caption=None):\n",
    "    fig, ax = hdfig((1,1))\n",
    "    m  = xc.shape[0]//2\n",
    "    lw = width//2\n",
    "    hw = width - lw\n",
    "    delay = np.arange(-lw, hw)*sample_interval\n",
    "    ax.plot(delay, xc[m-lw:m+hw])\n",
    "    ax.set_xlabel('Delay [%s]' % delay.unit)\n",
    "    if caption:\n",
    "        ax.set_title(caption)"
   ]
  },
  {
   "cell_type": "markdown",
   "id": "d48319d5-f8c6-4fc4-9c89-082a8e9330eb",
   "metadata": {},
   "source": [
    "We now calculate the autocorrelation of the noise of antenna 1. This may take several seconds up to a minute."
   ]
  },
  {
   "cell_type": "code",
   "execution_count": null,
   "id": "61344c69-b682-4c24-b4cb-03932d577f75",
   "metadata": {},
   "outputs": [],
   "source": [
    "xc_1_1 = simple_real_cross_power(   ) #FILL_IN"
   ]
  },
  {
   "cell_type": "code",
   "execution_count": null,
   "id": "b4a4b4f2-2af7-4d54-b04c-fb344c5e6f47",
   "metadata": {},
   "outputs": [],
   "source": [
    "plot_real_xc(xc_1_1, width=1000, sample_interval=sample_interval, caption='Antenna 1 noise autocorrelation')"
   ]
  },
  {
   "cell_type": "markdown",
   "id": "0cd69bd4-2bea-45ee-a6a8-f2060d7d5dfb",
   "metadata": {},
   "source": [
    "Inspect the plot (zoom in if necessary)\n",
    "\n",
    "**QUESTIONS**:\n",
    "\n",
    "1. Why is there only a single point with a high value? And why is that peak at exactly 0?\n",
    "\n",
    "2. What is its value?\n",
    "\n",
    "3. What is the standard deviation of the off-peak signal? (you can use the empty cell below to calculate. If there is no empty cell, press \"ESC\" then \"b\" to create one below. Use \"a\" instead\" of \"b\" to create one above.\n",
    "\n",
    "4. Explain why the standard deviation of the off-peak area in the plot has that value?\n",
    "\n",
    "Oddly, the peak is not at 1.0. Let's investigate the effect of quantisation:\n",
    "\n",
    "5. Change nrbits to 16 and try again: what happens with the peak and standard deviation?\n",
    "\n",
    "6. Now multiply the individual `antN_noise_float` parameters by 16 to much better sample the signal. Make sure to divide the result of `simple_real_cross_power` by an appropriate amount to maintain normalization. What happens with the peak and standard deviation?\n"
   ]
  },
  {
   "cell_type": "code",
   "execution_count": null,
   "id": "5a74c564-982b-4331-94e3-9c7a1d2771ed",
   "metadata": {},
   "outputs": [],
   "source": []
  },
  {
   "cell_type": "markdown",
   "id": "c5d14b93-5c70-429f-a7eb-9bd1e5d2d8a1",
   "metadata": {},
   "source": [
    "Now let's do that for the cross correlation of the noise between antenna 1 and 2, EXCLUDING the sky signal:"
   ]
  },
  {
   "cell_type": "code",
   "execution_count": null,
   "id": "148b8145-32a8-4530-a7d1-7a34dddf18c3",
   "metadata": {},
   "outputs": [],
   "source": [
    "xc_1_2 = simple_real_cross_power(  ) #FILL_IN"
   ]
  },
  {
   "cell_type": "code",
   "execution_count": null,
   "id": "54210793-71a2-4f7d-b96a-956238f1a853",
   "metadata": {},
   "outputs": [],
   "source": [
    "plot_real_xc(xc_1_2, width=1000, sample_interval=sample_interval, caption='Antenna 1-2 noise crosscorrelation')"
   ]
  },
  {
   "cell_type": "markdown",
   "id": "69c49b4a-a576-4354-a46f-6e288baf69d8",
   "metadata": {},
   "source": [
    "**QUESTIONS**\n",
    "\n",
    "Again inspect the figure.\n",
    "\n",
    "1. Why is there NO central peak?\n",
    "\n",
    "2. What is the standard deviation of the cross correlation function?\n",
    "\n",
    "3. Explain why it has that value\n"
   ]
  },
  {
   "cell_type": "code",
   "execution_count": null,
   "id": "970bf78a-885f-4fa1-836c-d5b8292be28c",
   "metadata": {},
   "outputs": [],
   "source": []
  },
  {
   "cell_type": "markdown",
   "id": "5f7fde82-59a9-44b0-8658-55711a8391c7",
   "metadata": {},
   "source": [
    "Now let's add the sky signal to the antenna's noise values before sampling:"
   ]
  },
  {
   "cell_type": "code",
   "execution_count": null,
   "id": "3a7051cd-cf7c-46c4-9606-726d81b6ea6a",
   "metadata": {},
   "outputs": [],
   "source": [
    "ant1_noise_sky0 = ant1_noise_float +   # FILL_IN\n",
    "ant2_noise_sky0 =                      # FILL_IN\n",
    "xc_1_2_noise_with_sky = simple_real_cross_power(ant1_noise_sky0, ant2_noise_sky0)"
   ]
  },
  {
   "cell_type": "code",
   "execution_count": null,
   "id": "c87929a9-7e8a-4cca-a444-c78ab9969815",
   "metadata": {},
   "outputs": [],
   "source": [
    "plot_real_xc(xc_1_2_noise_with_sky, width=1000, sample_interval=sample_interval, caption='Antenna 1-2 crosscorrelation noise+sky')"
   ]
  },
  {
   "cell_type": "markdown",
   "id": "fb9b2bf9-7275-4230-aff5-de8f09901528",
   "metadata": {},
   "source": [
    "Again, carefully inspect the above figure and answer the following questions:\n",
    "\n",
    "1. What causes the central peak?\n",
    "\n",
    "2. Explain why the central peak is at 0 delay.\n",
    "\n",
    "3. What is its amplitude?\n",
    "\n",
    "4. Explain the value of the central peak's amplitude.\n",
    "\n",
    "5. What is the standard deviation of the off-peak noise?\n",
    "\n",
    "6. Considering the previous component-wise sampled signals (noise and sky separate), how is it possible that there is a central peak at all?\n"
   ]
  },
  {
   "cell_type": "code",
   "execution_count": null,
   "id": "1cb72ebb-6dad-49bc-8c2d-ab498e1dda5a",
   "metadata": {},
   "outputs": [],
   "source": []
  },
  {
   "cell_type": "markdown",
   "id": "5d4402c3-d950-4f94-8126-0c46a8dd7345",
   "metadata": {},
   "source": [
    "Now add a delay of approximately 5 µs to the sky signal at antenna 2. That is: the sky signal arrives approximately 5 µs LATER at antenna 2 than at antenna 1. Hints: \n",
    "1. use careful array indexing to get the job done\n",
    "2. it is not a problem if the data sets are somewhat truncated."
   ]
  },
  {
   "cell_type": "code",
   "execution_count": null,
   "id": "6a980f10-d166-4109-9a90-88646aa0e914",
   "metadata": {},
   "outputs": [],
   "source": [
    "sample_shift =   # FILL_IN integer number of samples to shift the sky signal between antenna 1 and 2. \n",
    "print(sample_shift)\n",
    "s = sample_shift\n",
    "\n",
    "ant1_noise_sky = ant1_noise_float[  ] + sky_signal_float[  ]  # FILL_IN, make use of s\n",
    "ant2_noise_sky = ant2_noise_float[  ] + sky_signal_float[  ]  # FILL_IN, make use of s\n",
    "xc_1_2_noise_with_sky_delayed = simple_real_cross_power(ant1_noise_sky, ant2_noise_sky)"
   ]
  },
  {
   "cell_type": "code",
   "execution_count": null,
   "id": "f5b35703-98ad-407f-a8ce-795712b79ea6",
   "metadata": {},
   "outputs": [],
   "source": [
    "plot_real_xc(xc_1_2_noise_with_sky_delayed, width=1000,\n",
    "             sample_interval=sample_interval,\n",
    "             caption='Antenna 1-2 crosscorrelation noise+sky delayed')"
   ]
  },
  {
   "cell_type": "markdown",
   "id": "87a35cb9-ca7a-4b85-a387-b4ec94aeb81c",
   "metadata": {},
   "source": [
    "Inspect the plot. What does \"Delay\" actually mean here?\n",
    "1. How much *earlier* the signal arrives at antenna 1\n",
    "2. How much *later* the signal arrives at antenna 1\n"
   ]
  },
  {
   "cell_type": "markdown",
   "id": "0ca9c473-23a7-4dc2-84f4-6deb99ab5b32",
   "metadata": {
    "tags": []
   },
   "source": [
    "## Complex correlator\n",
    "\n",
    "To speed up many calculations in radio astronomy, it is easier to work with a complex representation of the electric field, where the complex voltage at frequency $\\nu$ can be written as\n",
    "\\begin{equation}\n",
    "E(\\nu, t) = a \\mathrm{e}^{2\\pi\\mathrm{i}\\nu t}\n",
    "\\end{equation}\n",
    "and\n",
    "\\begin{equation}\n",
    "a = |a|\\mathrm{e}^{\\mathrm{i}\\phi_0}\n",
    "\\end{equation}\n",
    "is the complex amplitude and phase offset of the (quasi)-monochromatic wave at $t=0$.\n",
    "\n",
    "Using Euler's rule, we can write the complex voltage as\n",
    "\\begin{equation}\n",
    "E(\\nu, t) = a \\left(\\cos{2\\pi\\nu t}  + \\mathrm{i}\\sin{2\\pi\\nu t}\\right)\n",
    "\\end{equation}\n",
    "\n",
    "Modern radio receivers generally give one the real and imaginary parts of the complex field straight away. The real part is then called the \"in-phase\" part ($I$), and the imaginary part the \"quadrature-phase\" part ($Q$) because in the monochromatic case it is 90 degrees out of phase. In radio-engineering this is called \"IQ\" data. In radio-astronomy we typically call it \"complex voltages\".\n",
    "\n",
    "These parts can be obtained by heterodyne-mixing (multiplying) the incoming field with a cosine wave of frequency $\\nu$ for the real part, and a corresponding sine wave for the imaginary part.\n",
    "\n",
    "\n",
    "**QUESTIONS**\n",
    "\n",
    "1. Explain why the sine wave must be $-sin$\n",
    "\n",
    "Assuming a Nyquist-sampled, real-valued time series of samples $s_k$, with a total band width $\\Delta\\nu$, show that when mixed with (co)sine waves of frequency $\\nu_0 = \\frac{1}{2}\\Delta\\nu$,\n",
    "\n",
    "2. $\\cos(2\\pi\\nu_0t)$ at sample $k$ can be written as 1, 0, -1, 0, 1, 0, … for $k$ starting at 0.\n",
    "\n",
    "3. $\\sin(2\\pi\\nu_0t)$ at sample $k$ can be written as 0,1, 0, -1, 0, 1, … for $k$ starting at 0.\n",
    "\n",
    "\n",
    "Using smart numpy array indexing, implement such a real-to complex conversion:"
   ]
  },
  {
   "cell_type": "code",
   "execution_count": null,
   "id": "b1fe3940-0327-4340-ad9b-11ae33c77707",
   "metadata": {},
   "outputs": [],
   "source": [
    "def make_complex_nyquist_timeseries(real_timeseries):\n",
    "    n           = real_timeseries.shape[0]//2   # Number of complex samples\n",
    "    cos_samples = real_timeseries[   ] # FILL_IN\n",
    "    sin_samples = real_timeseries[   ] # FILL_IN\n",
    "    wave = (-1)**np.arange(n)\n",
    "    return (cos_samples - 1j*sin_samples)   # Use \"wave\" somehow to obtain correct result\n",
    "\n",
    "\n",
    "#TEST CASE to see if you did this correctly\n",
    "n = 10\n",
    "real_series = noise.normalized_gaussian_noise(n,seed=1)\n",
    "print('Real   :', real_series)\n",
    "complex_series = make_complex_nyquist_timeseries(real_series)\n",
    "print('Complex:', complex_series)\n",
    "test_series = np.array([ 0.34558419-0.82161814j, -0.33043708-1.30315723j,  0.90535587-0.44637457j,\n",
    "  0.53695324+0.5811181j,   0.3645724 -0.2941325j ])\n",
    "if np.linalg.norm(complex_series - test_series) < 1e-6:\n",
    "    print('SUCCESS! You did it!')\n",
    "else:\n",
    "    print('Not there yet...')    "
   ]
  },
  {
   "cell_type": "markdown",
   "id": "220994e1-558f-49d0-a224-a1848b454d72",
   "metadata": {},
   "source": [
    "**QUESTION:** How is the fact that there are only half a number of complex samples at intervals of $\\Delta t = 1/\\Delta\\nu$ not in violation of the Nyquist sampling theorem?\n"
   ]
  },
  {
   "cell_type": "markdown",
   "id": "019f81e6-455b-4e45-b21d-c79bb04595bf",
   "metadata": {},
   "source": [
    "## Forming narrow channels\n",
    "\n",
    "The math describing radio-interferometric imaging is only valid for the quasi-monochromatic case. Therefore, an actual correlator always involves a channelisation step. Either *before* correlation (FX for \"Fourier transform *then* multiply\") or after correlation (\"XF\" for multiply *then* Fourier transform). In case of a large amount of antennas FX costs less compute power.\n",
    "\n",
    "Let's make an \"FX\"  correlating interferometer simulation for a single baseline. The simulator should:\n",
    "\n",
    "1. Take each real time series and digitize it using `nrbits`\n",
    "2. Convert both time series to complex voltages (IQ data)\n",
    "3. Partition the long sequences into blocks that can be channelized using an FFT (use `np.fft.ifft`)\n",
    "4. Multiply the spectrum of antenna 1 with the complex conjugate of the spectrum of antenna 2 (EXPLAIN WHY THIS IS THE SAME AS CROSS-CORRELATING TIME-SERIES)\n",
    "5. Average the result\n",
    "6. return the result\n",
    "\n",
    "Now read the documentation for `np.fft.ifft` and `np.fft.ifftshift`. Use a single call to the latter to ensure that the centre of the band ends up at position `num_chan//2`."
   ]
  },
  {
   "cell_type": "code",
   "execution_count": null,
   "id": "af0e33fa-b4c4-4e23-b3df-bf9dd003ecd7",
   "metadata": {},
   "outputs": [],
   "source": [
    "def fx_correlating_interferometer(signal_1_float, signal_2_float, num_chan:int, nrbits:int=8):\n",
    "    # \"cv\" stands for \"complex voltage\"\n",
    "    cv_1 =  # FILL_IN complex voltage\n",
    "    cv_2 =  # FILL_IN\n",
    "    num_samples = min(len(cv_1), len(cv_2))\n",
    "    result = np.zeros(num_chan, dtype=np.complex64)\n",
    "    spectra_added = 0\n",
    "    for i in range(0, num_samples, num_chan):\n",
    "        if i + num_chan > num_samples: # can't make a full spectrum anymore\n",
    "            break\n",
    "        spectrum_1 = np.fft.ifft(   )    # FILL_IN (normalization \"ortho\", see np.fft documentation)\n",
    "        spectrum_2 = np.fft.ifft(   )    # FILL_IN\n",
    "        result        +=                 # FILL_IN\n",
    "        spectra_added += 1\n",
    "    if spectra_added > 0:\n",
    "        return  # FILL_IN: make use of \"spectra_added\"\n",
    "    else:\n",
    "        raise ValueError(\"ERROR: Cannot form %a channels from sampled data of lengths %r and %r\",\n",
    "                         num_chan, len(signal_1_float), len(signal_2_float))"
   ]
  },
  {
   "cell_type": "markdown",
   "id": "d12ff6b0-9723-4a67-8513-9488dea7dee9",
   "metadata": {},
   "source": [
    "We slightly increase the signal-to-noise ratio to ensure we can do the following simulations with only 10 seconds of data. Create a version of `ant1_noise_sky` and `ant2_noise_sky` with three times the `sky_signal_float` voltages at a sample delay `s`."
   ]
  },
  {
   "cell_type": "code",
   "execution_count": null,
   "id": "b486d097-72df-45b7-a4f3-20f626d9b5eb",
   "metadata": {},
   "outputs": [],
   "source": [
    "ant1_strong =   # FILL_IN\n",
    "ant2_strong =   # FILL_IN\n",
    "\n",
    "spectrum = fx_correlating_interferometer(ant1_strong, ant2_strong,\n",
    "                                        num_chan=1024, nrbits=12)"
   ]
  },
  {
   "cell_type": "code",
   "execution_count": null,
   "id": "b49fdde1-6488-46b4-9446-23a0cc9b569e",
   "metadata": {},
   "outputs": [],
   "source": [
    "def plot_complex_seq(z, xaxis=None):\n",
    "    fig, (ax_abs, ax_phase) = hdfig((2,1))\n",
    "    if xaxis is None:\n",
    "        xlabel, xvalues = 'Channel', np.arange(len(z))\n",
    "    else:\n",
    "        xlabel, xvalues = xaxis\n",
    "        xlabel += ' [%s]' % xvalues.unit\n",
    "    ax_abs.plot(xvalues, np.absolute(z))\n",
    "    ax_abs.set_ylabel('Amplitude')\n",
    "    ax_phase.set_xlabel(xlabel)\n",
    "    ax_phase.set_ylabel('Phase [rad]')\n",
    "    ax_phase.plot(xvalues, np.angle(z))"
   ]
  },
  {
   "cell_type": "code",
   "execution_count": null,
   "id": "821c58da-5555-465a-966f-3e9ce806ec20",
   "metadata": {},
   "outputs": [],
   "source": [
    "plot_complex_seq(spectrum)\n",
    "print(9/500, 3*sky_signal_float.std(), np.absolute(spectrum).mean())"
   ]
  },
  {
   "cell_type": "markdown",
   "id": "f519be84-9417-40ea-81eb-fa3e326c3160",
   "metadata": {},
   "source": [
    "Verify that the mean amplitude is independent of the number of channels you use (try 128...1024 in powers of 2)\n",
    "\n",
    "**QUESTIONS**\n",
    "\n",
    "1. Why is the mean amplitude approximately *twice* 9/500?\n",
    "\n",
    "2. Why is there a phase gradient?\n",
    "\n",
    "3. Why does it wrap the number of times you see in the plot?\n"
   ]
  },
  {
   "cell_type": "markdown",
   "id": "ff44f123-1454-4fde-80f1-457e28b3c11f",
   "metadata": {},
   "source": [
    "# Verifying frequency\n",
    "\n",
    "We now add a \"calibration\" signal to the real valued time-series data in the form of a cosine wave at a frequency of $\\frac{1}{3}\\Delta\\nu$. Give it an amplitude of 0.02: again well below the digitizer's level separation of 1."
   ]
  },
  {
   "cell_type": "code",
   "execution_count": null,
   "id": "af6fe290-9432-4754-9ae2-e38dff521647",
   "metadata": {},
   "outputs": [],
   "source": [
    "freq_cal       = delta_freq/3\n",
    "time_of_sample = delta_t*np.arange(num_samples))\n",
    "narrow_band = 0.02*np.cos(   ) # FILL_IN\n",
    "narrow_band = narrow_band.value\n",
    "print(freq_cal)\n",
    "\n",
    "# nsc = noise + 3x sky shifted by s samples + calibration\n",
    "ant1_nsc =   # FILL_IN\n",
    "ant2_nsc =   # FILL_IN\n"
   ]
  },
  {
   "cell_type": "code",
   "execution_count": null,
   "id": "6431e270-9ee0-4f51-a801-d6a788f56a6e",
   "metadata": {},
   "outputs": [],
   "source": [
    "num_chan=4096\n",
    "spectrum_cal = fx_correlating_interferometer(ant1_nsc, ant2_nsc,\n",
    "                                        num_chan=num_chan, nrbits=8)"
   ]
  },
  {
   "cell_type": "code",
   "execution_count": null,
   "id": "a81650ed-5034-4956-abb3-b63d699b7048",
   "metadata": {},
   "outputs": [],
   "source": [
    "plot_complex_seq(spectrum_cal)"
   ]
  },
  {
   "cell_type": "markdown",
   "id": "011a48d6-ae96-4723-9509-c8cd6766973c",
   "metadata": {},
   "source": [
    "Modify the plot command in the previous cell such that the horizontal axis is the frequency instead of the channel number. You've done it correctly if the frequency of the test signal matches.\n",
    "\n",
    "Experiment with `num_chan` again.\n",
    "\n",
    "**QUESTIONS**\n",
    "\n",
    "1. What happens with the calibration signal amplitude?\n",
    "\n",
    "2. What happens with the sky signal amplitude?\n",
    "\n",
    "3. Explain the difference\n"
   ]
  },
  {
   "cell_type": "markdown",
   "id": "76bb6b18-e6c7-4632-ae2e-46b526b0a798",
   "metadata": {},
   "source": [
    "Now let's plot the Fourier transform of the spectrum of the cross-correlation. Because... why not?"
   ]
  },
  {
   "cell_type": "code",
   "execution_count": null,
   "id": "d870d1f0-5854-4007-af30-207ccdb316b5",
   "metadata": {},
   "outputs": [],
   "source": [
    "plot_complex_seq(np.fft.fftshift(np.fft.fft(spectrum_cal)))"
   ]
  },
  {
   "cell_type": "markdown",
   "id": "e72a5fa1-260f-4944-b183-d787f7eccb14",
   "metadata": {},
   "source": [
    "**QUESTIONS**\n",
    "\n",
    "1. What does the horizontal axis represent?\n",
    "\n",
    "2. What causes the single peak?\n",
    "\n",
    "3. Explain why the single peak is at exactly the place you find it.\n"
   ]
  },
  {
   "cell_type": "markdown",
   "id": "0917fa35-87fd-417a-8f14-ab4f5b627afd",
   "metadata": {},
   "source": [
    "## Finally\n",
    "\n",
    "You've made it until the end of this tutorial. Hopefully you now have a better grasp of the inner workings of the digital signal chain of a radio interferometer."
   ]
  },
  {
   "cell_type": "code",
   "execution_count": null,
   "id": "0852a872-21e1-4c09-90af-adaa49cda240",
   "metadata": {},
   "outputs": [],
   "source": []
  }
 ],
 "metadata": {
  "kernelspec": {
   "display_name": "Python 3 (ipykernel)",
   "language": "python",
   "name": "python3"
  },
  "language_info": {
   "codemirror_mode": {
    "name": "ipython",
    "version": 3
   },
   "file_extension": ".py",
   "mimetype": "text/x-python",
   "name": "python",
   "nbconvert_exporter": "python",
   "pygments_lexer": "ipython3",
   "version": "3.9.7"
  }
 },
 "nbformat": 4,
 "nbformat_minor": 5
}
