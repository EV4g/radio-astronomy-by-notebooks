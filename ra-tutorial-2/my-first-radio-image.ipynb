{
 "cells": [
  {
   "cell_type": "markdown",
   "metadata": {},
   "source": [
    "# Tutorial Session #2, Simple Imaging\n",
    "\n",
    "Huib Jan van Langevelde\n",
    "\n",
    "In this session we will try to appreciate the basic concepts of synthesis imaging. The data set for this session was taken with the VLA (in the distant past) and allows us to image the centre of our Milky Way, the radio source Sagittarius A.\n",
    "\n",
    "The data are found in the current directory.\n",
    "\n",
    "\n",
    "You will be using CASA which starts by typing ‘casa530’ (to get the most recent stable for 2018-09-21) at the Unix prompt. Lots of background information for casa can be found at http://casa.nrao.edu/.\n",
    "\n",
    "## Inspection\n",
    "\n",
    "Inspect the data with `vishead` and/or `listobs`. You should discover there were 2 sources observed with many VLA antennas. Take note of the observing date, observing frequencies. There are two correlator polarisation products.\n",
    "\n",
    "You will also need to know how the antennas are distributed. This can be done with ‘plotants'. Estimate what the longest baseline is for these observations. Also make a note which antennas are near the centre of the array. You will need this later.\n",
    "\n",
    "## Calibrator, data inspection\n",
    "\n",
    "We will now concentrate First on the calibrator. You will need to set `Field=‘0’` when running tasks for that. Plot the amplitude of this source in time (`plotms`), this shows when the data was observed. Also note that there is significant signal, constant in time. Of course it is not calibrated yet.\n",
    "\n",
    "In the same tool you can also plot the uv-coverage by plotting U versus V. Note that this is not a 12h full observation, but you can make reasonable images with the VLA anyway. An amplitude versus uvdist plot (also using `plotms`) shows the source is detectable on all baselines. But plotting the (`uvdist`, `phase`) plot shows the array is not focused at all. \n",
    "\n",
    "Try to see the phase on separate baselines in time by selecting baselines with a central antenna (this requires mastering the `‘plotms’` interfaces). It is illustrative to image the source from the un-calibrated data. So run `tclean` without doing any cleaning (`niter=0`). Most other parameters can be left at default, except you must select a sensible\n",
    "image name and you probably want to switch `‘interacive=True’`. And of course you must worry about the resolution.\n",
    "\n",
    "You should be able to estimate the resolution from the uv-coverage and observing wavelength. Typically you need 3 pixels across the beam. Start with a reasonably sized image of 512 pixels. The flux is scattered around and no image is obtained. Inspect the other products like the pointspread function(PSF) image with `‘viewer’`.\n",
    "\n",
    "## Calibrate\n",
    "\n",
    "Now it is time to start calibrating. We will work on the assumption that 1748-253 is a point source with 1.17 Jy of flux. Normally this number is derived from a flux calibrator, but for now trust us that we have done this correctly for you. Setup `gaincal` to write a calibration table (you have to define `caltable`) with the proper `‘smodel’`, a 5 min interval is sufficient at 18 cm to counter the ionospheric fluctuations over the telescopes, and set one of the center antennas as the reference. \n",
    "\n",
    "You must solve the phase and amplitude, but be sure to only select data on the calibrator.\n",
    "The resulting solutions can be inspected with `‘plotcal’`. Make sure you see that the phase solutions ‘hang together’ by plotting the phase solutions in time. Why are all the solutions for your reference antenna 0? Amplitudes should be similar for all antennas. It is useful to plot the SNR against time too.\n",
    "\n",
    "Run `‘applycal’` with mostly default values applying your gain table to all the sources in the data. Now repeat the plots (`plotms`) you did before with this calibration applied. For this you must select the `‘data column=corrected’` in the axes pane. The original uncalibrated data is still there in the data column. Phase versus time should show the array is now in focus. Amplitude versus UV-distance shows the data is consistent with a 1.17 Jy point source. And phase versus UV-distance shows it is located at the centre.\n",
    "\n",
    "You are ready to make a map, run `tclean` again with a few iterations (`niter=200`). Inspect the result in `‘viewer’`.\n",
    "\n",
    "## Target in B array\n",
    "\n",
    "The dataset (that you just calibrated) also contains data on the Galactic centre, Sgr A. You can inspect the data in `‘plotms’` by selecting the `field=‘1’`. You can switch between the `column=data` and `column=corrected` to see the effect of the calibration. Note that the plot of (amp, uvdist) looks quite different for this source. How much flux is there in this field?\n",
    "\n",
    "Now clean this data, note that you will a bit larger map this time (`imsize = 1024`) and take a larger number of clean components. Imaging and cleaning this will take a few measures. \n",
    "### MODIFY: autoweighing\n",
    "You will need to master how to set boxes to constrain the process. You may want to reduce the gain to proceed more carefully. This dataset is particularly sensitive to different weighting, try `‘weighting=uniform’` or even robust weighting (`weighting=‘briggs’`).\n",
    "Notably, this data suffers from incomplete data on the short baselines. This can be beautifully illustrated by restricting yourself to the long baselines. You can use (`uvrange=‘>10klambda’`) to make an image that flters all the extended emission. The point source you discover this way is SgrA*, the radio emission associated with the black hole in the Galactic centre!\n",
    "\n",
    "Make sure you measure the noise statistics in this image and compare it to the other images you have created on target and calibrator.\n",
    "\n",
    "## Optional: Combine with C array\n",
    "There is a better way to improve the overall image, namely by acquiring more data on shorter\n",
    "baselines. The VLA can provide this. The data you had Tirst was ‘B array’; we also have some C array data in which the antennas are moved closer together, providing shorter baselines. And it is already calibrated.\n",
    "\n",
    "Read data from ``‘sgrac.uvf'`` and inspect the data again. You should note it is from a different date and the antenna positions are different. The uv-coverage is also different.\n",
    "This data is already calibrated, but when you inspect the data by uvplt-ting the amplitude versus uvdist, you may notice something is wrong. How will this affect your map?\n",
    "\n",
    "You can proceed with the normal clean and see how it is affecting the data. You can flag the data in `plotms`. Don’t spend too much time on imaging the C array data, as we want next to combine the B and C array data. To do this you must use `‘split’` to get the calibrated data on the Galactic centre from the B array data and then `‘concat’` both sets together. Then you can use this combined dataset to image the Galactic centre.\n",
    "\n",
    "The NRAO image gallery has quite a few radio images of the Galactic centre on a range of scales (http://images.nrao.edu/Galactic_Sources/Galactic_Center). Please note that these were not produced in two class hours from 7 MB of data!\n"
   ]
  },
  {
   "cell_type": "code",
   "execution_count": null,
   "metadata": {},
   "outputs": [],
   "source": []
  }
 ],
 "metadata": {
  "kernelspec": {
   "display_name": "Python 3",
   "language": "python",
   "name": "python3"
  },
  "language_info": {
   "codemirror_mode": {
    "name": "ipython",
    "version": 3
   },
   "file_extension": ".py",
   "mimetype": "text/x-python",
   "name": "python",
   "nbconvert_exporter": "python",
   "pygments_lexer": "ipython3",
   "version": "3.7.0"
  }
 },
 "nbformat": 4,
 "nbformat_minor": 2
}
